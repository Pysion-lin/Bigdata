{
 "cells": [
  {
   "cell_type": "code",
   "execution_count": 1,
   "metadata": {},
   "outputs": [],
   "source": [
    "import os\n",
    "import sys\n",
    "# 如果当前代码文件运行测试需要加入修改路径，避免出现后导包问题\n",
    "BASE_DIR = os.path.dirname(os.path.dirname(os.getcwd()))\n",
    "sys.path.insert(0, os.path.join(BASE_DIR))\n",
    "\n",
    "PYSPARK_PYTHON = \"/miniconda2/envs/reco_sys/bin/python\"\n",
    "# 当存在多个版本时，不指定很可能会导致出错\n",
    "os.environ[\"PYSPARK_PYTHON\"] = PYSPARK_PYTHON\n",
    "os.environ[\"PYSPARK_DRIVER_PYTHON\"] = PYSPARK_PYTHON\n",
    "\n",
    "from offline import SparkSessionBase\n",
    "\n",
    "class UpdateRecall(SparkSessionBase):\n",
    "\n",
    "    SPARK_APP_NAME = \"updateRecall\"\n",
    "    ENABLE_HIVE_SUPPORT = True\n",
    "\n",
    "    def __init__(self):\n",
    "        self.spark = self._create_spark_session()\n",
    "\n",
    "ur = UpdateRecall()"
   ]
  },
  {
   "cell_type": "markdown",
   "metadata": {},
   "source": [
    "## 将数据处理成ALS模型需要的数据类型"
   ]
  },
  {
   "cell_type": "code",
   "execution_count": 2,
   "metadata": {},
   "outputs": [],
   "source": [
    "# 读取数据\n",
    "ur.spark.sql(\"use profile\")\n",
    "user_article_click = ur.spark.sql(\"select * from user_article_basic\").select(['user_id', 'article_id', 'clicked'])"
   ]
  },
  {
   "cell_type": "code",
   "execution_count": 3,
   "metadata": {},
   "outputs": [
    {
     "name": "stdout",
     "output_type": "stream",
     "text": [
      "+-------------------+----------+-------+\n",
      "|            user_id|article_id|clicked|\n",
      "+-------------------+----------+-------+\n",
      "|1105045287866466304|     14225|  false|\n",
      "|1106476833370537984|     14208|  false|\n",
      "|1111189494544990208|     19322|  false|\n",
      "|1111524501104885760|     44161|  false|\n",
      "|1112727762809913344|     18172|   true|\n",
      "|                  1|     44386|   true|\n",
      "|                  1|     44696|  false|\n",
      "|                 10|     43907|  false|\n",
      "|1106473203766657024|     16005|  false|\n",
      "|1108264901190615040|     15196|  false|\n",
      "|                 23|     44739|   true|\n",
      "|                 33|     13570|  false|\n",
      "|                  1|     17632|  false|\n",
      "|1106473203766657024|     17665|  false|\n",
      "|1111189494544990208|     44368|  false|\n",
      "|                 10|     44368|  false|\n",
      "|1105093883106164736|     15750|  false|\n",
      "|1106396183141548032|     19476|  false|\n",
      "|1111524501104885760|     19233|  false|\n",
      "|                  2|     44371|   true|\n",
      "+-------------------+----------+-------+\n",
      "only showing top 20 rows\n",
      "\n"
     ]
    }
   ],
   "source": [
    "user_article_click.show()"
   ]
  },
  {
   "cell_type": "code",
   "execution_count": 4,
   "metadata": {},
   "outputs": [],
   "source": [
    "# 对clicked进行类型转化\n",
    "def boolean_to_int(row):\n",
    "    return row.user_id, row.article_id, int(row.clicked)\n",
    "\n",
    "user_article_click = user_article_click.rdd.map(boolean_to_int).toDF(['user_id', 'article_id', 'clicked'])"
   ]
  },
  {
   "cell_type": "code",
   "execution_count": 5,
   "metadata": {},
   "outputs": [
    {
     "name": "stdout",
     "output_type": "stream",
     "text": [
      "+-------------------+----------+-------+\n",
      "|            user_id|article_id|clicked|\n",
      "+-------------------+----------+-------+\n",
      "|1105045287866466304|     14225|      0|\n",
      "|1106476833370537984|     14208|      0|\n",
      "|1111189494544990208|     19322|      0|\n",
      "|1111524501104885760|     44161|      0|\n",
      "|1112727762809913344|     18172|      1|\n",
      "|                  1|     44386|      1|\n",
      "|                  1|     44696|      0|\n",
      "|                 10|     43907|      0|\n",
      "|1106473203766657024|     16005|      0|\n",
      "|1108264901190615040|     15196|      0|\n",
      "|                 23|     44739|      1|\n",
      "|                 33|     13570|      0|\n",
      "|                  1|     17632|      0|\n",
      "|1106473203766657024|     17665|      0|\n",
      "|1111189494544990208|     44368|      0|\n",
      "|                 10|     44368|      0|\n",
      "|1105093883106164736|     15750|      0|\n",
      "|1106396183141548032|     19476|      0|\n",
      "|1111524501104885760|     19233|      0|\n",
      "|                  2|     44371|      1|\n",
      "+-------------------+----------+-------+\n",
      "only showing top 20 rows\n",
      "\n"
     ]
    }
   ],
   "source": [
    "user_article_click.show()"
   ]
  },
  {
   "cell_type": "code",
   "execution_count": 6,
   "metadata": {},
   "outputs": [],
   "source": [
    "# 处理user_id和article_id\n",
    "from pyspark.ml.feature import StringIndexer\n",
    "from pyspark.ml import Pipeline\n",
    "# 用户和文章ID超过ALS能接受的最大整数值，需要使用StringIndexer进行转换\n",
    "# stringIndexer根据类别出现的频次从0开始标号，出现频次最多的是0号\n",
    "user_id_indexer = StringIndexer(inputCol='user_id', outputCol='als_user_id')\n",
    "article_id_indexer = StringIndexer(inputCol='article_id', outputCol='als_article_id')\n",
    "pip = Pipeline(stages=[user_id_indexer, article_id_indexer])\n",
    "pip_fit = pip.fit(user_article_click)\n",
    "als_user_article_click = pip_fit.transform(user_article_click)"
   ]
  },
  {
   "cell_type": "code",
   "execution_count": 7,
   "metadata": {},
   "outputs": [
    {
     "name": "stdout",
     "output_type": "stream",
     "text": [
      "+-------------------+----------+-------+-----------+--------------+\n",
      "|            user_id|article_id|clicked|als_user_id|als_article_id|\n",
      "+-------------------+----------+-------+-----------+--------------+\n",
      "|1105045287866466304|     14225|      0|        4.0|          15.0|\n",
      "|1106476833370537984|     14208|      0|        2.0|           2.0|\n",
      "|1111189494544990208|     19322|      0|        1.0|         133.0|\n",
      "|1111524501104885760|     44161|      0|        9.0|          37.0|\n",
      "|1112727762809913344|     18172|      1|       12.0|          54.0|\n",
      "|                  1|     44386|      1|       10.0|          11.0|\n",
      "|                  1|     44696|      0|       10.0|          97.0|\n",
      "|                 10|     43907|      0|        3.0|           1.0|\n",
      "|1106473203766657024|     16005|      0|        5.0|          32.0|\n",
      "|1108264901190615040|     15196|      0|        6.0|           7.0|\n",
      "|                 23|     44739|      1|       17.0|           4.0|\n",
      "|                 33|     13570|      0|       13.0|          19.0|\n",
      "|                  1|     17632|      0|       10.0|         143.0|\n",
      "|1106473203766657024|     17665|      0|        5.0|          25.0|\n",
      "|1111189494544990208|     44368|      0|        1.0|           3.0|\n",
      "|                 10|     44368|      0|        3.0|           3.0|\n",
      "|1105093883106164736|     15750|      0|       19.0|          39.0|\n",
      "|1106396183141548032|     19476|      0|        0.0|         121.0|\n",
      "|1111524501104885760|     19233|      0|        9.0|          36.0|\n",
      "|                  2|     44371|      1|       11.0|         174.0|\n",
      "+-------------------+----------+-------+-----------+--------------+\n",
      "only showing top 20 rows\n",
      "\n"
     ]
    }
   ],
   "source": [
    "als_user_article_click.show()"
   ]
  },
  {
   "cell_type": "code",
   "execution_count": 8,
   "metadata": {},
   "outputs": [],
   "source": [
    "# ALS模型训练和推荐\n",
    "from pyspark.ml.recommendation import ALS\n",
    "# 模型训练\n",
    "als = ALS(userCol='als_user_id', itemCol='als_article_id', ratingCol='clicked', checkpointInterval=1)\n",
    "model = als.fit(als_user_article_click)\n",
    "# 为每个用户推荐100篇文章\n",
    "recall_res = model.recommendForAllUsers(100)"
   ]
  },
  {
   "cell_type": "code",
   "execution_count": 9,
   "metadata": {},
   "outputs": [
    {
     "name": "stdout",
     "output_type": "stream",
     "text": [
      "+-----------+--------------------+\n",
      "|als_user_id|     recommendations|\n",
      "+-----------+--------------------+\n",
      "|         12|[[206,0.23789279]...|\n",
      "|          1|[[93,0.43207034],...|\n",
      "|         13|[[86,0.2539775], ...|\n",
      "|          6|[[263,0.16947696]...|\n",
      "|         16|[[0,0.0], [10,0.0...|\n",
      "|          3|[[194,0.041858666...|\n",
      "|         20|[[0,0.0], [10,0.0...|\n",
      "|          5|[[263,0.020656489...|\n",
      "|         19|[[25,0.23241602],...|\n",
      "|         15|[[82,0.71069384],...|\n",
      "|         17|[[120,0.3641395],...|\n",
      "|          9|[[0,0.0], [10,0.0...|\n",
      "|          4|[[263,0.018508907...|\n",
      "|          8|[[263,0.36379915]...|\n",
      "|          7|[[120,0.063147336...|\n",
      "|         10|[[206,0.78249323]...|\n",
      "|         11|[[206,0.93888915]...|\n",
      "|         14|[[206,0.6858768],...|\n",
      "|          2|[[263,0.6295867],...|\n",
      "|          0|[[251,0.64237577]...|\n",
      "+-----------+--------------------+\n",
      "only showing top 20 rows\n",
      "\n"
     ]
    }
   ],
   "source": [
    "recall_res.show()"
   ]
  },
  {
   "cell_type": "code",
   "execution_count": 10,
   "metadata": {},
   "outputs": [],
   "source": [
    "# 保留通过stringIndexer转换后的user_id与article_id 和原始值的映射关系\n",
    "refection_user = als_user_article_click.groupBy(['user_id']).max('als_user_id').withColumnRenamed('max(als_user_id)', 'als_user_id')\n",
    "refection_article = als_user_article_click.groupBy(['article_id']).max('als_article_id').withColumnRenamed('max(als_article_id)', 'als_article_id')"
   ]
  },
  {
   "cell_type": "code",
   "execution_count": 11,
   "metadata": {},
   "outputs": [
    {
     "name": "stdout",
     "output_type": "stream",
     "text": [
      "+-------------------+-----------+\n",
      "|            user_id|als_user_id|\n",
      "+-------------------+-----------+\n",
      "|1106473203766657024|        5.0|\n",
      "|1103195673450250240|        7.0|\n",
      "|1105045287866466304|        4.0|\n",
      "|1111524501104885760|        9.0|\n",
      "|1105105185656537088|        8.0|\n",
      "|1113316420155867136|       18.0|\n",
      "|                 33|       13.0|\n",
      "|                  1|       10.0|\n",
      "|1113244157343694848|       15.0|\n",
      "|                 10|        3.0|\n",
      "|1113053603926376448|       20.0|\n",
      "|1112727762809913344|       12.0|\n",
      "|                  2|       11.0|\n",
      "|                  4|       14.0|\n",
      "|1106476833370537984|        2.0|\n",
      "|1106396183141548032|        0.0|\n",
      "|                 38|       16.0|\n",
      "|                 23|       17.0|\n",
      "|1108264901190615040|        6.0|\n",
      "|1111189494544990208|        1.0|\n",
      "+-------------------+-----------+\n",
      "only showing top 20 rows\n",
      "\n"
     ]
    }
   ],
   "source": [
    "refection_user.show()"
   ]
  },
  {
   "cell_type": "code",
   "execution_count": 12,
   "metadata": {},
   "outputs": [],
   "source": [
    "# 合并推荐结果与 refection_user映射关系表\n",
    "recall_res = recall_res.join(refection_user, on=['als_user_id'], how='left').select(['als_user_id', 'recommendations', 'user_id'])"
   ]
  },
  {
   "cell_type": "code",
   "execution_count": 13,
   "metadata": {},
   "outputs": [
    {
     "name": "stdout",
     "output_type": "stream",
     "text": [
      "+-----------+--------------------+-------------------+\n",
      "|als_user_id|     recommendations|            user_id|\n",
      "+-----------+--------------------+-------------------+\n",
      "|          8|[[263,0.36379915]...|1105105185656537088|\n",
      "|          0|[[251,0.64237577]...|1106396183141548032|\n",
      "|          7|[[120,0.063147336...|1103195673450250240|\n",
      "|         18|[[0,0.0], [10,0.0...|1113316420155867136|\n",
      "|          1|[[93,0.43207034],...|1111189494544990208|\n",
      "|          4|[[263,0.018508907...|1105045287866466304|\n",
      "|         11|[[206,0.93888915]...|                  2|\n",
      "|         14|[[206,0.6858768],...|                  4|\n",
      "|          3|[[194,0.041858666...|                 10|\n",
      "|         19|[[25,0.23241602],...|1105093883106164736|\n",
      "|          2|[[263,0.6295867],...|1106476833370537984|\n",
      "|         17|[[120,0.3641395],...|                 23|\n",
      "|         10|[[206,0.78249323]...|                  1|\n",
      "|         13|[[86,0.2539775], ...|                 33|\n",
      "|          6|[[263,0.16947696]...|1108264901190615040|\n",
      "|         20|[[0,0.0], [10,0.0...|1113053603926376448|\n",
      "|          5|[[263,0.020656489...|1106473203766657024|\n",
      "|         15|[[82,0.71069384],...|1113244157343694848|\n",
      "|          9|[[0,0.0], [10,0.0...|1111524501104885760|\n",
      "|         16|[[0,0.0], [10,0.0...|                 38|\n",
      "+-----------+--------------------+-------------------+\n",
      "only showing top 20 rows\n",
      "\n"
     ]
    }
   ],
   "source": [
    "recall_res.show()"
   ]
  },
  {
   "cell_type": "code",
   "execution_count": 14,
   "metadata": {},
   "outputs": [],
   "source": [
    "# 展开recommendations列，找到user_id和文章的一一对应关系\n",
    "import pyspark.sql.functions as F\n",
    "recall_res = recall_res.withColumn('recommendation', F.explode('recommendations')).drop('recommendations').drop('als_user_id')"
   ]
  },
  {
   "cell_type": "code",
   "execution_count": 15,
   "metadata": {},
   "outputs": [
    {
     "name": "stdout",
     "output_type": "stream",
     "text": [
      "+-------------------+----------------+\n",
      "|            user_id|  recommendation|\n",
      "+-------------------+----------------+\n",
      "|1105105185656537088|[263,0.36379915]|\n",
      "|1105105185656537088| [115,0.2490875]|\n",
      "|1105105185656537088| [105,0.2490875]|\n",
      "|1105105185656537088|[251,0.18787636]|\n",
      "|1105105185656537088|[235,0.18787636]|\n",
      "|1105105185656537088|[176,0.18787636]|\n",
      "|1105105185656537088|[222,0.18787636]|\n",
      "|1105105185656537088|[236,0.18787636]|\n",
      "|1105105185656537088| [15,0.15890628]|\n",
      "|1105105185656537088|[100,0.13856897]|\n",
      "|1105105185656537088|[36,0.113783054]|\n",
      "|1105105185656537088| [12,0.10552912]|\n",
      "|1105105185656537088| [5,0.067999065]|\n",
      "|1105105185656537088|[20,0.039709307]|\n",
      "|1105105185656537088| [40,0.03743278]|\n",
      "|1105105185656537088| [6,0.035484646]|\n",
      "|1105105185656537088|  [3,0.03392289]|\n",
      "|1105105185656537088|[13,0.032818202]|\n",
      "|1105105185656537088| [8,0.030078007]|\n",
      "|1105105185656537088|[38,0.026264708]|\n",
      "+-------------------+----------------+\n",
      "only showing top 20 rows\n",
      "\n"
     ]
    }
   ],
   "source": [
    "recall_res.show()"
   ]
  },
  {
   "cell_type": "code",
   "execution_count": 16,
   "metadata": {},
   "outputs": [],
   "source": [
    "# 取出article_id进行反向解析\n",
    "def _article_id(row):\n",
    "  return row.user_id, row.recommendation[0]"
   ]
  },
  {
   "cell_type": "code",
   "execution_count": 17,
   "metadata": {},
   "outputs": [],
   "source": [
    "recall_res = recall_res.rdd.map(_article_id).toDF(['user_id', 'als_article_id'])"
   ]
  },
  {
   "cell_type": "code",
   "execution_count": 18,
   "metadata": {},
   "outputs": [
    {
     "name": "stdout",
     "output_type": "stream",
     "text": [
      "+-------------------+--------------+\n",
      "|            user_id|als_article_id|\n",
      "+-------------------+--------------+\n",
      "|1105105185656537088|           263|\n",
      "|1105105185656537088|           115|\n",
      "|1105105185656537088|           105|\n",
      "|1105105185656537088|           251|\n",
      "|1105105185656537088|           235|\n",
      "|1105105185656537088|           176|\n",
      "|1105105185656537088|           222|\n",
      "|1105105185656537088|           236|\n",
      "|1105105185656537088|            15|\n",
      "|1105105185656537088|           100|\n",
      "|1105105185656537088|            36|\n",
      "|1105105185656537088|            12|\n",
      "|1105105185656537088|             5|\n",
      "|1105105185656537088|            20|\n",
      "|1105105185656537088|            40|\n",
      "|1105105185656537088|             6|\n",
      "|1105105185656537088|             3|\n",
      "|1105105185656537088|            13|\n",
      "|1105105185656537088|             8|\n",
      "|1105105185656537088|            38|\n",
      "+-------------------+--------------+\n",
      "only showing top 20 rows\n",
      "\n"
     ]
    }
   ],
   "source": [
    "recall_res.show()"
   ]
  },
  {
   "cell_type": "code",
   "execution_count": 19,
   "metadata": {},
   "outputs": [],
   "source": [
    "recall_res = recall_res.join(refection_article, on=['als_article_id'], how='left')"
   ]
  },
  {
   "cell_type": "code",
   "execution_count": 20,
   "metadata": {},
   "outputs": [
    {
     "name": "stdout",
     "output_type": "stream",
     "text": [
      "+--------------+-------------------+----------+\n",
      "|als_article_id|            user_id|article_id|\n",
      "+--------------+-------------------+----------+\n",
      "|           170|1113316420155867136|    134730|\n",
      "|           170|1105093883106164736|    134730|\n",
      "|           170|1113053603926376448|    134730|\n",
      "|           170|1111524501104885760|    134730|\n",
      "|           170|                 38|    134730|\n",
      "|           184|1105093883106164736|     19494|\n",
      "|           160|1105105185656537088|     18127|\n",
      "|           160|1106396183141548032|     18127|\n",
      "|           160|1103195673450250240|     18127|\n",
      "|           160|1113316420155867136|     18127|\n",
      "|           160|1111189494544990208|     18127|\n",
      "|           160|1105045287866466304|     18127|\n",
      "|           160|                  2|     18127|\n",
      "|           160|                  4|     18127|\n",
      "|           160|                 10|     18127|\n",
      "|           160|1106476833370537984|     18127|\n",
      "|           160|                 23|     18127|\n",
      "|           160|                  1|     18127|\n",
      "|           160|                 33|     18127|\n",
      "|           160|1108264901190615040|     18127|\n",
      "+--------------+-------------------+----------+\n",
      "only showing top 20 rows\n",
      "\n"
     ]
    }
   ],
   "source": [
    "recall_res.show()"
   ]
  },
  {
   "cell_type": "code",
   "execution_count": 21,
   "metadata": {},
   "outputs": [],
   "source": [
    "# 获取每个文章对应的频道，推荐给用户时按照频道存储\n",
    "ur.spark.sql(\"use toutiao\")\n",
    "news_article_basic = ur.spark.sql(\"select article_id, channel_id from news_article_basic\")\n",
    "\n",
    "als_recall = recall_res.join(news_article_basic, on=['article_id'], how='left')"
   ]
  },
  {
   "cell_type": "code",
   "execution_count": 22,
   "metadata": {},
   "outputs": [
    {
     "name": "stdout",
     "output_type": "stream",
     "text": [
      "+----------+--------------+-------------------+----------+\n",
      "|article_id|als_article_id|            user_id|channel_id|\n",
      "+----------+--------------+-------------------+----------+\n",
      "|    134730|           170|1113316420155867136|        18|\n",
      "|    134730|           170|1105093883106164736|        18|\n",
      "|    134730|           170|1113053603926376448|        18|\n",
      "|    134730|           170|1111524501104885760|        18|\n",
      "|    134730|           170|                 38|        18|\n",
      "|     19494|           184|1105093883106164736|        18|\n",
      "|     18127|           160|1105105185656537088|        18|\n",
      "|     18127|           160|1106396183141548032|        18|\n",
      "|     18127|           160|1103195673450250240|        18|\n",
      "|     18127|           160|1113316420155867136|        18|\n",
      "|     18127|           160|1111189494544990208|        18|\n",
      "|     18127|           160|1105045287866466304|        18|\n",
      "|     18127|           160|                  2|        18|\n",
      "|     18127|           160|                  4|        18|\n",
      "|     18127|           160|                 10|        18|\n",
      "|     18127|           160|1106476833370537984|        18|\n",
      "|     18127|           160|                 23|        18|\n",
      "|     18127|           160|                  1|        18|\n",
      "|     18127|           160|                 33|        18|\n",
      "|     18127|           160|1108264901190615040|        18|\n",
      "+----------+--------------+-------------------+----------+\n",
      "only showing top 20 rows\n",
      "\n"
     ]
    }
   ],
   "source": [
    "als_recall.show()"
   ]
  },
  {
   "cell_type": "code",
   "execution_count": 23,
   "metadata": {},
   "outputs": [],
   "source": [
    "# 得到每篇文章的channel_id\n",
    "# 按照用户和channel_id分组\n",
    "als_recall = als_recall.groupBy(['user_id', 'channel_id']).agg(F.collect_list('article_id')).withColumnRenamed(\n",
    "  'collect_list(article_id)', 'article_list')"
   ]
  },
  {
   "cell_type": "code",
   "execution_count": 24,
   "metadata": {},
   "outputs": [
    {
     "name": "stdout",
     "output_type": "stream",
     "text": [
      "+-------------------+----------+--------------------+\n",
      "|            user_id|channel_id|        article_list|\n",
      "+-------------------+----------+--------------------+\n",
      "|1113244157343694848|         7|    [141437, 141469]|\n",
      "|1108264901190615040|         7|            [141437]|\n",
      "|                 33|        13|            [141431]|\n",
      "|1106396183141548032|         7|    [141437, 141469]|\n",
      "|1103195673450250240|         5|            [141440]|\n",
      "|1108264901190615040|        18|[18127, 16421, 18...|\n",
      "|1106473203766657024|        18|[18127, 16421, 18...|\n",
      "|                  4|         7|    [141437, 141469]|\n",
      "|                  2|         5|            [141440]|\n",
      "|                 23|         7|    [141437, 141469]|\n",
      "|1106396183141548032|        13|            [141431]|\n",
      "|1113053603926376448|        13|            [141431]|\n",
      "|1113053603926376448|         7|            [141437]|\n",
      "|                 10|         7|    [141437, 141469]|\n",
      "|1106476833370537984|         7|            [141437]|\n",
      "|1111189494544990208|        13|            [141431]|\n",
      "|1103195673450250240|         7|    [141437, 141469]|\n",
      "|1108264901190615040|         5|            [141440]|\n",
      "|1105105185656537088|        18|[18127, 16421, 18...|\n",
      "|                 23|        18|[18127, 16421, 18...|\n",
      "+-------------------+----------+--------------------+\n",
      "only showing top 20 rows\n",
      "\n"
     ]
    }
   ],
   "source": [
    "# 去除缺失值\n",
    "als_recall = als_recall.dropna()\n",
    "als_recall.show()"
   ]
  },
  {
   "cell_type": "code",
   "execution_count": 25,
   "metadata": {},
   "outputs": [],
   "source": [
    "# 基于模型的召回结果存储\n",
    "\n",
    "def save_offline_recall_hbase(partition):\n",
    "    \"\"\"\n",
    "    离线模型召回结果存储\n",
    "    \"\"\"\n",
    "    import happybase\n",
    "    pool = happybase.ConnectionPool(size=10, host='hadoop-master', port=9090)\n",
    "    for row in partition:\n",
    "        with pool.connection() as conn:\n",
    "            # 获取历史看过的该频道文章\n",
    "            history_table = conn.table('history_recall')\n",
    "            # 获取多个版本的历史数据\n",
    "            # 结果为带时间戳的value值，这里value为article_id列表\n",
    "            data = history_table.cells('reco:his:{}'.format(row.user_id).encode(), 'channel:{}'.format(row.channel_id).encode())\n",
    "\n",
    "            history = []\n",
    "            if len(data) >= 2:\n",
    "                for l in data[:-1]:\n",
    "                    history.extend(l)\n",
    "            else:\n",
    "                history = []\n",
    "\n",
    "            # 过滤掉history中已经推荐过的文章\n",
    "            reco_res = list(set(row.article_list) - set(history))\n",
    "            \n",
    "            # 过滤后的推荐结果，如果有数据就存，没有就不存\n",
    "            if reco_res:\n",
    "\n",
    "                table = conn.table('cb_recall')\n",
    "                # 默认放在推荐频道\n",
    "                table.put('recall:user:{}'.format(row.user_id).encode(),{'als:{}'.format(row.channel_id).encode(): str(reco_res).encode()})\n",
    "\n",
    "                # 同时放入历史推荐过文章\n",
    "                history_table.put(\"reco:his:{}\".format(row.user_id).encode(),{'channel:{}'.format(row.channel_id): str(reco_res).encode()})\n",
    "            conn.close()\n",
    "\n",
    "# 数据已存，不再运行\n",
    "# als_recall.foreachPartition(save_offline_recall_hbase)"
   ]
  },
  {
   "cell_type": "code",
   "execution_count": 26,
   "metadata": {},
   "outputs": [],
   "source": [
    "# 基于内容的召回结果推荐\n",
    "# 过滤点击过的文章\n",
    "ur.spark.sql(\"use profile\")\n",
    "user_article_basic = ur.spark.sql(\"select * from user_article_basic\").filter('clicked=True')"
   ]
  },
  {
   "cell_type": "code",
   "execution_count": 27,
   "metadata": {},
   "outputs": [
    {
     "name": "stdout",
     "output_type": "stream",
     "text": [
      "+-------------------+-------------------+----------+----------+------+-------+---------+--------+---------+\n",
      "|            user_id|        action_time|article_id|channel_id|shared|clicked|collected|exposure|read_time|\n",
      "+-------------------+-------------------+----------+----------+------+-------+---------+--------+---------+\n",
      "|1112727762809913344|2019-04-03 12:51:57|     18172|        18| false|   true|     true|    true|    19413|\n",
      "|                  1|2019-03-07 16:57:34|     44386|        18| false|   true|    false|    true|    17850|\n",
      "|                 23|2019-04-03 08:10:23|     44739|        18| false|   true|    false|    true|    14216|\n",
      "|                  2|2019-03-05 10:19:54|     44371|        18| false|   true|    false|    true|      938|\n",
      "|                  2|2019-03-07 10:06:20|     18103|        18| false|   true|    false|    true|      648|\n",
      "|1111189494544990208|2019-03-28 16:56:55|     44737|        18| false|   true|    false|    true|     4138|\n",
      "|                  2|2019-03-15 14:51:12|     43894|        18| false|   true|    false|    true|      928|\n",
      "|1106396183141548032|2019-03-28 10:55:51|     18156|        18| false|   true|    false|    true|     9902|\n",
      "|                  2|2019-04-03 09:40:39|     18005|        18| false|   true|    false|    true|    16900|\n",
      "|                 23|2019-04-03 10:03:05|     13751|        18| false|   true|    false|    true|     9895|\n",
      "|                  1|2019-03-20 18:13:11|    141469|         7| false|   true|    false|    true|     9916|\n",
      "|                  2|2019-03-07 10:05:29|     18836|        18| false|   true|    false|    true|      835|\n",
      "|                  2|2019-03-07 10:06:57|     14961|        18| false|   true|    false|    true|     5248|\n",
      "|                  1|2019-03-20 15:02:56|    141437|         7| false|   true|    false|    true|     2012|\n",
      "|                  2|2019-03-15 11:42:42|     13890|        18| false|   true|    false|    true|      426|\n",
      "|                 33|2019-03-11 18:03:59|     17304|        18| false|   true|    false|    true|         |\n",
      "|                  1|2019-03-20 15:06:52|    141440|         5| false|   true|    false|    true|     2329|\n",
      "|1111189494544990208|2019-03-28 16:57:35|     13750|        18| false|   true|    false|    true|    29997|\n",
      "|1111189494544990208|2019-03-28 16:59:28|     18795|        18| false|   true|    false|    true|     8307|\n",
      "|1111189494544990208|2019-03-28 17:01:22|     18335|        18| false|   true|    false|    true|     3260|\n",
      "+-------------------+-------------------+----------+----------+------+-------+---------+--------+---------+\n",
      "only showing top 20 rows\n",
      "\n"
     ]
    }
   ],
   "source": [
    "user_article_basic.show()"
   ]
  },
  {
   "cell_type": "code",
   "execution_count": null,
   "metadata": {},
   "outputs": [],
   "source": [
    "def save_clicked_similar_article_recall(partition):\n",
    "    \"\"\"计算每个用户的每个操作文章的相似文章，过滤之后，写入content召回表当中（支持不同时间戳版本）\n",
    "    \"\"\"\n",
    "    import happybase\n",
    "    pool = happybase.ConnectionPool(size=10, host='hadoop-master')\n",
    "\n",
    "    # 进行为相似文章获取\n",
    "    with pool.connection() as conn:\n",
    "\n",
    "        # key:   article_id,    column:  similar:article_id\n",
    "        similar_table = conn.table('article_similar')\n",
    "        # 循环partition\n",
    "        for row in partition:\n",
    "            # 获取相似文章结果表\n",
    "            similar_article = similar_table.row(str(row.article_id).encode(),\n",
    "                                                columns=[b'similar'])\n",
    "            # 相似文章相似度排序过滤，召回不需要太大的数据， 百个，千\n",
    "            # _srt = sorted(similar_article.items(), key=lambda item: item[1], reverse=True)\n",
    "            _srt = sorted(similar_article.items(), key=lambda item: item[1])\n",
    "            if _srt:\n",
    "                # 每次行为推荐10篇文章\n",
    "                reco_article = [int(i[0].split(b':')[1]) for i in _srt][:10]\n",
    "\n",
    "                # 获取历史看过的该频道文章\n",
    "                history_table = conn.table('history_recall')\n",
    "                # 多个版本\n",
    "                data = history_table.cells('reco:his:{}'.format(row.user_id).encode(),\n",
    "                                           'channel:{}'.format(row.channel_id).encode())\n",
    "\n",
    "                history = []\n",
    "                if len(data) >= 2:\n",
    "                    for l in data[:-1]:\n",
    "                        history.extend(eval(l))\n",
    "                else:\n",
    "                    history = []\n",
    "\n",
    "                # 过滤reco_article与history\n",
    "                reco_res = list(set(reco_article) - set(history))\n",
    "\n",
    "                # 进行推荐，放入基于内容的召回表当中以及历史看过的文章表当中\n",
    "                if reco_res:\n",
    "                    # content_table = conn.table('cb_content_recall')\n",
    "                    content_table = conn.table('cb_recall')\n",
    "                    content_table.put(\"recall:user:{}\".format(row.user_id).encode(),\n",
    "                                      {'content:{}'.format(row.channel_id).encode(): str(reco_res).encode()})\n",
    "\n",
    "                    # 放入历史推荐过文章\n",
    "                    history_table.put(\"reco:his:{}\".format(row.user_id).encode(),\n",
    "                                      {'channel:{}'.format(row.channel_id).encode(): str(reco_res).encode()})\n",
    "\n",
    "        conn.close()\n",
    "\n",
    "user_article_basic.foreachPartition(save_clicked_similar_article_recall)"
   ]
  }
 ],
 "metadata": {
  "kernelspec": {
   "display_name": "Python 3",
   "language": "python",
   "name": "python3"
  },
  "language_info": {
   "codemirror_mode": {
    "name": "ipython",
    "version": 3
   },
   "file_extension": ".py",
   "mimetype": "text/x-python",
   "name": "python",
   "nbconvert_exporter": "python",
   "pygments_lexer": "ipython3",
   "version": "3.6.7"
  }
 },
 "nbformat": 4,
 "nbformat_minor": 1
}
