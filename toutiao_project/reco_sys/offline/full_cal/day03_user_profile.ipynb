{
 "cells": [
  {
   "cell_type": "code",
   "execution_count": 1,
   "metadata": {},
   "outputs": [],
   "source": [
    "import os\n",
    "import sys\n",
    "# 如果当前代码文件运行测试需要加入修改路径，避免出现后导包问题\n",
    "BASE_DIR = os.path.dirname(os.path.dirname(os.getcwd()))\n",
    "sys.path.insert(0, os.path.join(BASE_DIR))\n",
    "\n",
    "PYSPARK_PYTHON = \"/miniconda2/envs/reco_sys/bin/python\"\n",
    "# 当存在多个版本时，不指定很可能会导致出错\n",
    "os.environ[\"PYSPARK_PYTHON\"] = PYSPARK_PYTHON\n",
    "os.environ[\"PYSPARK_DRIVER_PYTHON\"] = PYSPARK_PYTHON\n",
    "\n",
    "from offline import SparkSessionBase\n",
    "import pyhdfs\n",
    "import time\n",
    "\n",
    "\n",
    "class UpdateUserProfile(SparkSessionBase):\n",
    "    \"\"\"离线相关处理程序\n",
    "    \"\"\"\n",
    "    SPARK_APP_NAME = \"updateUser\"\n",
    "    ENABLE_HIVE_SUPPORT = True\n",
    "\n",
    "    SPARK_EXECUTOR_MEMORY = \"3g\"\n",
    "\n",
    "    def __init__(self):\n",
    "\n",
    "        self.spark = self._create_spark_session()"
   ]
  },
  {
   "cell_type": "code",
   "execution_count": 2,
   "metadata": {},
   "outputs": [],
   "source": [
    "uup = UpdateUserProfile()"
   ]
  },
  {
   "cell_type": "code",
   "execution_count": 3,
   "metadata": {},
   "outputs": [
    {
     "data": {
      "text/plain": [
       "DataFrame[]"
      ]
     },
     "execution_count": 3,
     "metadata": {},
     "output_type": "execute_result"
    }
   ],
   "source": [
    "uup.spark.sql('use profile')"
   ]
  },
  {
   "cell_type": "code",
   "execution_count": 4,
   "metadata": {},
   "outputs": [],
   "source": [
    "# 读取日志数据，（关联历史日志数据和HIVE表分区）\n",
    "import pandas as pd\n",
    "from datetime import datetime\n",
    "\n",
    "def datelist(startdate, enddate):\n",
    "    date = [datetime.strftime(d, '%Y-%m-%d') for d in list(pd.date_range(start=startdate, end=enddate))]\n",
    "    return date\n",
    "\n",
    "dl = datelist('2019-03-05', time.strftime('%Y-%m-%d', time.localtime()))\n",
    "\n",
    "\n",
    "pydfs = pyhdfs.HdfsClient(hosts=\"hadoop-master:50070\")\n",
    "# 循环每个日期进行关联\n",
    "for d in dl:\n",
    "    \n",
    "    # 构造hadoop地址\n",
    "    _location = '/user/hive/warehouse/profile.db/user_action/' + d\n",
    "    try:\n",
    "        if pydfs.exists(_location):\n",
    "            uup.spark.sql(\"alter table user_action add partition (dt='%s') location '%s'\" % (d, _location))\n",
    "    except:\n",
    "        pass"
   ]
  },
  {
   "cell_type": "code",
   "execution_count": 5,
   "metadata": {},
   "outputs": [],
   "source": [
    "# 如果hadoop没有今天该日期文件，则没有日志数据，结束\n",
    "time_str = time.strftime(\"%Y-%m-%d\", time.localtime())\n",
    "_localions = '/user/hive/warehouse/profile.db/user_action/' + time_str\n",
    "if pydfs.exists(_localions):\n",
    "    # 如果有该文件直接关联，捕获重复关联异常\n",
    "    try:\n",
    "        uup.spark.sql(\"alter table user_action add partition (dt='%s') location '%s'\" % (time_str, _localions))\n",
    "    except Exception as e:\n",
    "        pass\n",
    "\n",
    "else:\n",
    "    pass"
   ]
  },
  {
   "cell_type": "code",
   "execution_count": 6,
   "metadata": {},
   "outputs": [
    {
     "name": "stdout",
     "output_type": "stream",
     "text": [
      "+-------------+\n",
      "|    partition|\n",
      "+-------------+\n",
      "|dt=2019-03-05|\n",
      "|dt=2019-03-06|\n",
      "|dt=2019-03-07|\n",
      "|dt=2019-03-08|\n",
      "|dt=2019-03-09|\n",
      "|dt=2019-03-10|\n",
      "|dt=2019-03-11|\n",
      "|dt=2019-03-12|\n",
      "|dt=2019-03-13|\n",
      "|dt=2019-03-14|\n",
      "|dt=2019-03-15|\n",
      "|dt=2019-03-16|\n",
      "|dt=2019-03-17|\n",
      "|dt=2019-03-18|\n",
      "|dt=2019-03-19|\n",
      "|dt=2019-03-20|\n",
      "|dt=2019-03-21|\n",
      "|dt=2019-03-22|\n",
      "|dt=2019-03-23|\n",
      "|dt=2019-03-24|\n",
      "|dt=2019-03-25|\n",
      "|dt=2019-03-26|\n",
      "|dt=2019-03-27|\n",
      "|dt=2019-03-28|\n",
      "|dt=2019-03-29|\n",
      "|dt=2019-03-30|\n",
      "|dt=2019-03-31|\n",
      "|dt=2019-04-01|\n",
      "|dt=2019-04-02|\n",
      "|dt=2019-04-03|\n",
      "|dt=2019-04-04|\n",
      "|dt=2019-04-05|\n",
      "|dt=2019-04-06|\n",
      "|dt=2019-04-07|\n",
      "|dt=2019-04-08|\n",
      "|dt=2019-04-09|\n",
      "|dt=2019-04-10|\n",
      "+-------------+\n",
      "\n"
     ]
    }
   ],
   "source": [
    "# 首先查看一下user_action中的分区\n",
    "uup.spark.sql(\"show partitions user_action\").show(50)"
   ]
  },
  {
   "cell_type": "code",
   "execution_count": 7,
   "metadata": {},
   "outputs": [],
   "source": [
    "# 先删除没有数据的分区，否则直接查询数据会报错\n",
    "# uup.spark.sql(\"alter table user_action drop partition(dt>'2019-04-10')\")"
   ]
  },
  {
   "cell_type": "code",
   "execution_count": 8,
   "metadata": {},
   "outputs": [
    {
     "name": "stdout",
     "output_type": "stream",
     "text": [
      "+-------------+\n",
      "|    partition|\n",
      "+-------------+\n",
      "|dt=2019-03-05|\n",
      "|dt=2019-03-06|\n",
      "|dt=2019-03-07|\n",
      "|dt=2019-03-08|\n",
      "|dt=2019-03-09|\n",
      "|dt=2019-03-10|\n",
      "|dt=2019-03-11|\n",
      "|dt=2019-03-12|\n",
      "|dt=2019-03-13|\n",
      "|dt=2019-03-14|\n",
      "|dt=2019-03-15|\n",
      "|dt=2019-03-16|\n",
      "|dt=2019-03-17|\n",
      "|dt=2019-03-18|\n",
      "|dt=2019-03-19|\n",
      "|dt=2019-03-20|\n",
      "|dt=2019-03-21|\n",
      "|dt=2019-03-22|\n",
      "|dt=2019-03-23|\n",
      "|dt=2019-03-24|\n",
      "|dt=2019-03-25|\n",
      "|dt=2019-03-26|\n",
      "|dt=2019-03-27|\n",
      "|dt=2019-03-28|\n",
      "|dt=2019-03-29|\n",
      "|dt=2019-03-30|\n",
      "|dt=2019-03-31|\n",
      "|dt=2019-04-01|\n",
      "|dt=2019-04-02|\n",
      "|dt=2019-04-03|\n",
      "|dt=2019-04-04|\n",
      "|dt=2019-04-05|\n",
      "|dt=2019-04-06|\n",
      "|dt=2019-04-07|\n",
      "|dt=2019-04-08|\n",
      "|dt=2019-04-09|\n",
      "|dt=2019-04-10|\n",
      "+-------------+\n",
      "\n"
     ]
    }
   ],
   "source": [
    "# 再查看删除分区之后的user_action中的分区\n",
    "uup.spark.sql(\"show partitions user_action\").show(50)"
   ]
  },
  {
   "cell_type": "code",
   "execution_count": 9,
   "metadata": {},
   "outputs": [],
   "source": [
    "sqlDF = uup.spark.sql(\n",
    "\"select actionTime, readTime, channelId, param.articleId, param.algorithmCombine, param.action, param.userId from user_action where dt>='2019-04-01'\")"
   ]
  },
  {
   "cell_type": "code",
   "execution_count": 10,
   "metadata": {},
   "outputs": [
    {
     "name": "stdout",
     "output_type": "stream",
     "text": [
      "+-------------------+--------+---------+-------------------+----------------+------+-------------------+\n",
      "|         actionTime|readTime|channelId|          articleId|algorithmCombine|action|             userId|\n",
      "+-------------------+--------+---------+-------------------+----------------+------+-------------------+\n",
      "|2019-04-08 08:36:07|        |        7|             141437|              C2| click|1114863941936218112|\n",
      "|2019-04-08 08:36:13|    5152|        7|             141437|              C2|  read|1114863941936218112|\n",
      "|2019-04-08 08:36:07|        |        7|             141437|              C2| click|1114863941936218112|\n",
      "|2019-04-08 08:36:13|    5152|        7|             141437|              C2|  read|1114863941936218112|\n",
      "|2019-04-08 08:36:07|        |        7|             141437|              C2| click|1114863941936218112|\n",
      "|2019-04-08 08:36:13|    5152|        7|             141437|              C2|  read|1114863941936218112|\n",
      "|2019-04-08 08:36:07|        |        7|             141437|              C2| click|1114863941936218112|\n",
      "|2019-04-08 08:36:13|    5152|        7|             141437|              C2|  read|1114863941936218112|\n",
      "|2019-04-08 08:36:07|        |        7|             141437|              C2| click|1114863941936218112|\n",
      "|2019-04-08 08:36:13|    5152|        7|             141437|              C2|  read|1114863941936218112|\n",
      "|2019-04-08 08:36:07|        |        7|             141437|              C2| click|1114863941936218112|\n",
      "|2019-04-08 08:36:13|    5152|        7|             141437|              C2|  read|1114863941936218112|\n",
      "|2019-04-08 08:36:07|        |        7|             141437|              C2| click|1114863941936218112|\n",
      "|2019-04-08 08:36:13|    5152|        7|             141437|              C2|  read|1114863941936218112|\n",
      "|2019-04-08 09:09:50|        |        3|1112608068731928576|              C2| click|                  1|\n",
      "|2019-04-08 09:09:50|        |        3|1112608068731928576|              C2| click|                  1|\n",
      "|2019-04-08 09:09:50|        |        3|1112608068731928576|              C2| click|                  1|\n",
      "|2019-04-08 09:09:50|        |        3|1112608068731928576|              C2| click|                  1|\n",
      "|2019-04-08 09:09:50|        |        3|1112608068731928576|              C2| click|                  1|\n",
      "|2019-04-08 09:09:50|        |        3|1112608068731928576|              C2| click|                  1|\n",
      "+-------------------+--------+---------+-------------------+----------------+------+-------------------+\n",
      "only showing top 20 rows\n",
      "\n"
     ]
    }
   ],
   "source": [
    "sqlDF.show()"
   ]
  },
  {
   "cell_type": "code",
   "execution_count": 11,
   "metadata": {},
   "outputs": [],
   "source": [
    "# 转化格式：[\"user_id\", \"action_time\",\"article_id\", \"channel_id\", \"shared\", \"clicked\", \"collected\", \"exposure\", \"read_time\"]\n",
    "\n",
    "def _compute(row):\n",
    "    # 进行判断行为类型\n",
    "    _list = []\n",
    "    if row.action == \"exposure\":\n",
    "        for article_id in eval(row.articleId):\n",
    "            _list.append(\n",
    "                [row.userId, row.actionTime, article_id, row.channelId, False, False, False, True, row.readTime])\n",
    "        return _list\n",
    "    else:\n",
    "        class Temp(object):\n",
    "            shared = False\n",
    "            clicked = False\n",
    "            collected = False\n",
    "            read_time = \"\"\n",
    "\n",
    "        _tp = Temp()\n",
    "        if row.action == \"share\":\n",
    "            _tp.shared = True\n",
    "        elif row.action == \"click\":\n",
    "            _tp.clicked = True\n",
    "        elif row.action == \"collect\":\n",
    "            _tp.collected = True\n",
    "        elif row.action == \"read\":\n",
    "            _tp.clicked = True\n",
    "        else:\n",
    "            pass\n",
    "        _list.append(\n",
    "            [row.userId, row.actionTime, int(row.articleId), row.channelId, _tp.shared, _tp.clicked, _tp.collected,\n",
    "             True,\n",
    "             row.readTime])\n",
    "        return _list"
   ]
  },
  {
   "cell_type": "code",
   "execution_count": 12,
   "metadata": {},
   "outputs": [],
   "source": [
    "# 对原user_action数据进行格式转换\n",
    "res = sqlDF.rdd.flatMap(_compute)"
   ]
  },
  {
   "cell_type": "code",
   "execution_count": 13,
   "metadata": {},
   "outputs": [],
   "source": [
    "data = res.toDF([\"user_id\", \"action_time\",\"article_id\", \"channel_id\", \"shared\", \"clicked\", \"collected\", \"exposure\", \"read_time\"])"
   ]
  },
  {
   "cell_type": "code",
   "execution_count": 14,
   "metadata": {},
   "outputs": [
    {
     "name": "stdout",
     "output_type": "stream",
     "text": [
      "+-------------------+-------------------+-------------------+----------+------+-------+---------+--------+---------+\n",
      "|            user_id|        action_time|         article_id|channel_id|shared|clicked|collected|exposure|read_time|\n",
      "+-------------------+-------------------+-------------------+----------+------+-------+---------+--------+---------+\n",
      "|1114094806092480512|2019-04-05 17:17:56|1112608068731928576|         0| false|  false|    false|    true|         |\n",
      "|1114094806092480512|2019-04-05 17:17:56|1112593242529988608|         0| false|  false|    false|    true|         |\n",
      "|1114094806092480512|2019-04-05 17:17:56|1112566345800613888|         0| false|  false|    false|    true|         |\n",
      "|1114094806092480512|2019-04-05 17:17:56|1112593324574769152|         0| false|  false|    false|    true|         |\n",
      "|1114094806092480512|2019-04-05 17:17:56|1112592065390182400|         0| false|  false|    false|    true|         |\n",
      "|1114094806092480512|2019-04-05 17:17:56|             141440|         0| false|  false|    false|    true|         |\n",
      "|1114094806092480512|2019-04-05 17:17:56|1112525856586072064|         0| false|  false|    false|    true|         |\n",
      "|1114094806092480512|2019-04-05 17:17:56|1109326351522856960|         0| false|  false|    false|    true|         |\n",
      "|1114094806092480512|2019-04-05 17:17:56|1108924834420621312|         0| false|  false|    false|    true|         |\n",
      "|1114094806092480512|2019-04-05 17:17:56|1112608068731928576|         0| false|  false|    false|    true|         |\n",
      "|1114094806092480512|2019-04-05 17:17:56|1112593242529988608|         0| false|  false|    false|    true|         |\n",
      "|1114094806092480512|2019-04-05 17:17:56|1112566345800613888|         0| false|  false|    false|    true|         |\n",
      "|1114094806092480512|2019-04-05 17:17:56|1112593324574769152|         0| false|  false|    false|    true|         |\n",
      "|1114094806092480512|2019-04-05 17:17:56|1112592065390182400|         0| false|  false|    false|    true|         |\n",
      "|1114094806092480512|2019-04-05 17:17:56|             141440|         0| false|  false|    false|    true|         |\n",
      "|1114094806092480512|2019-04-05 17:17:56|1112525856586072064|         0| false|  false|    false|    true|         |\n",
      "|1114094806092480512|2019-04-05 17:17:56|1109326351522856960|         0| false|  false|    false|    true|         |\n",
      "|1114094806092480512|2019-04-05 17:17:56|1108924834420621312|         0| false|  false|    false|    true|         |\n",
      "|1114094806092480512|2019-04-05 17:17:56|1112608068731928576|         0| false|  false|    false|    true|         |\n",
      "|1114094806092480512|2019-04-05 17:17:56|1112593242529988608|         0| false|  false|    false|    true|         |\n",
      "+-------------------+-------------------+-------------------+----------+------+-------+---------+--------+---------+\n",
      "only showing top 20 rows\n",
      "\n"
     ]
    }
   ],
   "source": [
    "data.show()"
   ]
  },
  {
   "cell_type": "code",
   "execution_count": 15,
   "metadata": {},
   "outputs": [],
   "source": [
    "# 合并历史数据，插入表中\n",
    "old = uup.spark.sql(\"select * from user_article_basic\")\n",
    "# 由于合并的结果中不是对于user_id和article_id唯一的，一个用户会对文章有多种操作\n",
    "new_old = old.unionAll(data)"
   ]
  },
  {
   "cell_type": "code",
   "execution_count": 16,
   "metadata": {},
   "outputs": [],
   "source": [
    "new_old.registerTempTable(\"temptable\")\n",
    "# 将历史合并数据按照用户，文章分组后存放\n",
    "\n",
    "# uup.spark.sql(\n",
    "#         \"insert overwrite table user_article_basic select user_id, max(action_time) as action_time, \"\n",
    "#         \"article_id, max(channel_id) as channel_id, max(shared) as shared, max(clicked) as clicked, \"\n",
    "#         \"max(collected) as collected, max(exposure) as exposure, max(read_time) as read_time from temptable \"\n",
    "#         \"group by user_id, article_id\")\n",
    "\n",
    "# 通过这个数据表我们就能够知道用户对某篇文章的历史行为都有哪些\n",
    "# 注意：数据表user_article_basic中的数据我们已经有了，不需要再去写入存储"
   ]
  },
  {
   "cell_type": "code",
   "execution_count": 17,
   "metadata": {},
   "outputs": [
    {
     "data": {
      "text/plain": [
       "DataFrame[]"
      ]
     },
     "execution_count": 17,
     "metadata": {},
     "output_type": "execute_result"
    }
   ],
   "source": [
    "# 获取基本用户行为信息，然后进行文章画像的主题词合并\n",
    "uup.spark.sql(\"use profile\")"
   ]
  },
  {
   "cell_type": "code",
   "execution_count": 18,
   "metadata": {},
   "outputs": [],
   "source": [
    "# 删除日志中的channel_id，因为日志中的频道信息不可靠\n",
    "# 0号频道是推荐频道，如果给用户推荐的文章属于18号Python频道，但是是在0号频道也就是推荐频道被曝光的，那么这个行为会被记录成对0号频道文章的操作\n",
    "user_article_basic = uup.spark.sql(\"select * from user_article_basic\").drop('channel_id')"
   ]
  },
  {
   "cell_type": "code",
   "execution_count": 19,
   "metadata": {},
   "outputs": [],
   "source": [
    "# 读取文章画像，打到用户身上的标签都是主题词\n",
    "uup.spark.sql('use article')\n",
    "article_label = uup.spark.sql(\"select article_id, channel_id, topics from article_profile\")"
   ]
  },
  {
   "cell_type": "code",
   "execution_count": 20,
   "metadata": {},
   "outputs": [],
   "source": [
    "# 合并用户行为数据和文章主题词数据，并使用文章中正确的channel_id\n",
    "user_topics_list = user_article_basic.join(article_label, how='left', on=['article_id'])"
   ]
  },
  {
   "cell_type": "code",
   "execution_count": 21,
   "metadata": {},
   "outputs": [
    {
     "name": "stdout",
     "output_type": "stream",
     "text": [
      "+-------------------+-------------------+-------------------+------+-------+---------+--------+---------+----------+--------------------+\n",
      "|         article_id|            user_id|        action_time|shared|clicked|collected|exposure|read_time|channel_id|              topics|\n",
      "+-------------------+-------------------+-------------------+------+-------+---------+--------+---------+----------+--------------------+\n",
      "|              13401|                 10|2019-03-06 10:06:12| false|  false|    false|    true|         |        18|[补码, 字符串, 李白, typ...|\n",
      "|              13401|1106396183141548032|2019-03-28 10:58:20| false|  false|    false|    true|         |        18|[补码, 字符串, 李白, typ...|\n",
      "|              14805|1105045287866466304|2019-03-11 18:15:48| false|  false|    false|    true|         |        18|[占位符, Code, sep, ...|\n",
      "|              14805|                  1|2019-03-05 17:34:03| false|  false|    false|    true|         |        18|[占位符, Code, sep, ...|\n",
      "|              14805|1111524501104885760|2019-03-29 15:05:28| false|  false|    false|    true|         |        18|[占位符, Code, sep, ...|\n",
      "|              14805|1111189494544990208|2019-03-28 16:57:45| false|  false|    false|    true|         |        18|[占位符, Code, sep, ...|\n",
      "|              14805|1106476833370537984|2019-03-15 16:48:08| false|  false|    false|    true|         |        18|[占位符, Code, sep, ...|\n",
      "|              14805|                 38|2019-03-07 19:11:11| false|  false|    false|    true|         |        18|[占位符, Code, sep, ...|\n",
      "|              14805|1108264901190615040|2019-03-20 15:18:27| false|  false|    false|    true|         |        18|[占位符, Code, sep, ...|\n",
      "|              14805|1112727762809913344|2019-04-03 12:50:40| false|  false|    false|    true|         |        18|[占位符, Code, sep, ...|\n",
      "|              14805|1106396183141548032|2019-03-28 10:54:28| false|  false|    false|    true|         |        18|[占位符, Code, sep, ...|\n",
      "|              14805|                 10|2019-03-06 10:06:15| false|  false|    false|    true|         |        18|[占位符, Code, sep, ...|\n",
      "|              14805|                  2|2019-03-05 10:20:47| false|   true|    false|    true|      671|        18|[占位符, Code, sep, ...|\n",
      "|              14805|1103195673450250240|2019-03-20 22:43:38| false|  false|    false|    true|         |        18|[占位符, Code, sep, ...|\n",
      "|              14805|1106473203766657024|2019-03-15 22:22:15| false|  false|    false|    true|         |        18|[占位符, Code, sep, ...|\n",
      "|              14805|1105105185656537088|2019-03-11 22:00:14| false|  false|    false|    true|         |        18|[占位符, Code, sep, ...|\n",
      "|              14805|                 23|2019-03-05 16:31:37| false|  false|    false|    true|         |        18|[占位符, Code, sep, ...|\n",
      "|1112593324574769152|1113244157343694848|2019-04-03 08:57:46| false|  false|    false|    true|         |      null|                null|\n",
      "|1112593324574769152|1113316420155867136|2019-04-03 13:44:54| false|  false|    false|    true|         |      null|                null|\n",
      "|              44013|1106396183141548032|2019-03-29 13:56:24| false|  false|    false|    true|         |        18|[frozenset, 字典, 无...|\n",
      "+-------------------+-------------------+-------------------+------+-------+---------+--------+---------+----------+--------------------+\n",
      "only showing top 20 rows\n",
      "\n"
     ]
    }
   ],
   "source": [
    "user_topics_list.show()"
   ]
  },
  {
   "cell_type": "code",
   "execution_count": 22,
   "metadata": {},
   "outputs": [],
   "source": [
    "# 展开主题词列表，便于计算主题词权重\n",
    "import pyspark.sql.functions as F\n",
    "user_single_topic = user_topics_list.withColumn('topic', F.explode('topics')).drop('topics')"
   ]
  },
  {
   "cell_type": "code",
   "execution_count": 23,
   "metadata": {},
   "outputs": [
    {
     "name": "stdout",
     "output_type": "stream",
     "text": [
      "+----------+-------------------+-------------------+------+-------+---------+--------+---------+----------+--------+\n",
      "|article_id|            user_id|        action_time|shared|clicked|collected|exposure|read_time|channel_id|   topic|\n",
      "+----------+-------------------+-------------------+------+-------+---------+--------+---------+----------+--------+\n",
      "|     13401|                 10|2019-03-06 10:06:12| false|  false|    false|    true|         |        18|      补码|\n",
      "|     13401|                 10|2019-03-06 10:06:12| false|  false|    false|    true|         |        18|     字符串|\n",
      "|     13401|                 10|2019-03-06 10:06:12| false|  false|    false|    true|         |        18|      李白|\n",
      "|     13401|                 10|2019-03-06 10:06:12| false|  false|    false|    true|         |        18|    type|\n",
      "|     13401|                 10|2019-03-06 10:06:12| false|  false|    false|    true|         |        18|      元素|\n",
      "|     13401|                 10|2019-03-06 10:06:12| false|  false|    false|    true|         |        18|    删除元素|\n",
      "|     13401|                 10|2019-03-06 10:06:12| false|  false|    false|    true|         |        18|      负数|\n",
      "|     13401|                 10|2019-03-06 10:06:12| false|  false|    false|    true|         |        18|      基数|\n",
      "|     13401|                 10|2019-03-06 10:06:12| false|  false|    false|    true|         |        18|     tp2|\n",
      "|     13401|                 10|2019-03-06 10:06:12| false|  false|    false|    true|         |        18|    数据类型|\n",
      "|     13401|                 10|2019-03-06 10:06:12| false|  false|    false|    true|         |        18|     二进制|\n",
      "|     13401|                 10|2019-03-06 10:06:12| false|  false|    false|    true|         |        18|xiaoming|\n",
      "|     13401|                 10|2019-03-06 10:06:12| false|  false|    false|    true|         |        18|      大写|\n",
      "|     13401|                 10|2019-03-06 10:06:12| false|  false|    false|    true|         |        18|      示例|\n",
      "|     13401|                 10|2019-03-06 10:06:12| false|  false|    false|    true|         |        18|      字典|\n",
      "|     13401|                 10|2019-03-06 10:06:12| false|  false|    false|    true|         |        18|     八进制|\n",
      "|     13401|                 10|2019-03-06 10:06:12| false|  false|    false|    true|         |        18|      元组|\n",
      "|     13401|                 10|2019-03-06 10:06:12| false|  false|    false|    true|         |        18|   print|\n",
      "|     13401|1106396183141548032|2019-03-28 10:58:20| false|  false|    false|    true|         |        18|      补码|\n",
      "|     13401|1106396183141548032|2019-03-28 10:58:20| false|  false|    false|    true|         |        18|     字符串|\n",
      "+----------+-------------------+-------------------+------+-------+---------+--------+---------+----------+--------+\n",
      "only showing top 20 rows\n",
      "\n"
     ]
    }
   ],
   "source": [
    "user_single_topic.show()"
   ]
  },
  {
   "cell_type": "code",
   "execution_count": 27,
   "metadata": {},
   "outputs": [],
   "source": [
    "# 计算每个用户对每篇文章的标签的权重\n",
    "\n",
    "def save_weights(rowpartition):\n",
    "    \"\"\"\n",
    "    处理每个用户对文章的点击数据\n",
    "    \"\"\"\n",
    "    weightsOfaction = {\n",
    "        \"read_min\": 1,\n",
    "        \"read_middle\": 2,\n",
    "        \"collect\": 2,\n",
    "        \"share\": 3,\n",
    "        \"click\": 5\n",
    "    }\n",
    "\n",
    "    import happybase\n",
    "    from datetime import datetime\n",
    "    import numpy as np\n",
    "    import json\n",
    "    #  用于读取hbase缓存结果配置\n",
    "    pool = happybase.ConnectionPool(size=10, host='192.168.19.137', port=9090)\n",
    "\n",
    "    # 读取文章的标签数据\n",
    "    # 计算权重值\n",
    "    # 时间间隔\n",
    "    for row in rowpartition:\n",
    "\n",
    "        t = datetime.now() - datetime.strptime(row.action_time, '%Y-%m-%d %H:%M:%S')\n",
    "        # 时间衰减系数\n",
    "        time_exp = 1 / (np.log(t.days + 1) + 1)\n",
    "\n",
    "        if row.read_time == '':\n",
    "            r_t = 0\n",
    "        else:\n",
    "            r_t = int(row.read_time)\n",
    "        # 浏览时间分数\n",
    "        is_read = weightsOfaction['read_middle'] if r_t > 1000 else weightsOfaction['read_min']\n",
    "\n",
    "        # 每个词的权重分数\n",
    "        weigths = time_exp * (\n",
    "                    row.shared * weightsOfaction['share'] + row.collected * weightsOfaction['collect'] + row.\n",
    "                    clicked * weightsOfaction['click'] + is_read)\n",
    "\n",
    "#         with pool.connection() as conn:\n",
    "#            table = conn.table('user_profile')\n",
    "#            table.put('user:{}'.format(row.user_id).encode(),\n",
    "#                      {'partial:{}:{}'.format(row.channel_id, row.topic).encode(): json.dumps(\n",
    "#                          weigths).encode()})\n",
    "#            conn.close()\n",
    "\n",
    "user_single_topic.foreachPartition(save_weights)"
   ]
  },
  {
   "cell_type": "code",
   "execution_count": 32,
   "metadata": {},
   "outputs": [
    {
     "name": "stdout",
     "output_type": "stream",
     "text": [
      "{b'partial:13:\\xe4\\xba\\xba\\xe5\\xb7\\xa5\\xe6\\x99\\xba\\xe8\\x83\\xbd': b'1.1354814310844472', b'partial:13:\\xe4\\xba\\xba\\xe7\\xb1\\xbb': b'1.1354814310844472', b'partial:13:\\xe5\\x88\\x86\\xe6\\x94\\xaf': b'1.1354814310844472', b'partial:13:\\xe5\\xad\\xa6\\xe7\\xa7\\x91': b'1.1354814310844472', b'partial:13:\\xe5\\xb0\\x96\\xe7\\xab\\xaf\\xe6\\x8a\\x80\\xe6\\x9c\\xaf': b'1.1354814310844472', b'partial:13:\\xe6\\x95\\x99\\xe6\\x8e\\x88': b'1.1354814310844472', b'partial:13:\\xe6\\x99\\xba\\xe5\\x8a\\x9b': b'1.1354814310844472', b'partial:13:\\xe6\\x99\\xba\\xe8\\x83\\xbd': b'1.1354814310844472', b'partial:13:ldquo': b'1.1354814310844472', b'partial:18:\\xe4\\xb8\\x96\\xe7\\x95\\x8c': b'0.9688425326486048', b'partial:18:\\xe4\\xb8\\xaa\\xe6\\x95\\xb0': b'0.9620870418999846', b'partial:18:\\xe4\\xb8\\xad\\xe6\\x8b\\xac\\xe5\\x8f\\xb7': b'0.16007622004474806', b'partial:18:\\xe4\\xbb\\xa3\\xe6\\x8c\\x87': b'1.1510499187169054', b'partial:18:\\xe4\\xbb\\xa3\\xe7\\xa0\\x81\\xe8\\x87\\xaa\\xe5\\x8a\\xa8\\xe8\\xa1\\xa5\\xe5\\x85\\xa8': b'1.1224348822166488', b'partial:18:\\xe4\\xbc\\x9a\\xe5\\x91\\x98': b'1.1510499187169054', b'partial:18:\\xe4\\xbe\\x8b\\xe5\\xad\\x90': b'1.1263189633826634', b'partial:18:\\xe4\\xbf\\x9d\\xe7\\x95\\x99\\xe4\\xb8\\xa4\\xe4\\xbd\\x8d\\xe5\\xb0\\x8f\\xe6\\x95\\xb0': b'0.9688425326486048', b'partial:18:\\xe5\\x80\\x92\\xe6\\x95\\xb0': b'0.9604573202684883', b'partial:18:\\xe5\\x85\\x83\\xe7\\xb4\\xa0': b'0.9654162543279972', b'partial:18:\\xe5\\x85\\x83\\xe7\\xbb\\x84': b'1.1205335403132364', b'partial:18:\\xe5\\x85\\xb3\\xe9\\x94\\xae\\xe5\\xad\\x97': b'1.1224348822166488', b'partial:18:\\xe5\\x86\\x85\\xe5\\xad\\x98\\xe5\\x9c\\xb0\\xe5\\x9d\\x80': b'1.1224348822166488', b'partial:18:\\xe5\\x86\\xb0\\xe7\\xae\\xb1': b'1.130316288090039', b'partial:18:\\xe5\\x87\\xbd\\xe6\\x95\\xb0': b'0.9688425326486048', b'partial:18:\\xe5\\x88\\x87\\xe7\\x89\\x87': b'1.1205335403132364', b'partial:18:\\xe5\\x88\\x97\\xe8\\xa1\\xa8': b'1.1205335403132364', b'partial:18:\\xe5\\x8a\\xa0\\xe5\\x8f\\xb7': b'0.9604573202684883', b'partial:18:\\xe5\\x8c\\x85\\xe5\\xad\\x90': b'0.9604573202684883', b'partial:18:\\xe5\\x8c\\xbf\\xe5\\x90\\x8d\\xe5\\x87\\xbd\\xe6\\x95\\xb0': b'0.9688425326486048', b'partial:18:\\xe5\\x8d\\x83\\xe5\\x88\\x86\\xe4\\xbd\\x8d': b'0.9688425326486048', b'partial:18:\\xe5\\x8d\\x8f\\xe7\\xa8\\x8b': b'1.1205335403132364', b'partial:18:\\xe5\\x8d\\xa0\\xe4\\xbd\\x8d\\xe7\\xac\\xa6': b'0.9604573202684883', b'partial:18:\\xe5\\x8d\\xa1\\xe4\\xb8\\x81\\xe8\\xbd\\xa6': b'0.9620870418999846', b'partial:18:\\xe5\\x8e\\x9f\\xe4\\xbb\\xb7': b'0.16007622004474806', b'partial:18:\\xe5\\x8f\\x82\\xe6\\x95\\xb0': b'0.9688425326486048', b'partial:18:\\xe5\\x91\\xa8\\xe6\\xb6\\xa6\\xe5\\x8f\\x91': b'0.9604573202684883', b'partial:18:\\xe5\\x9c\\xb0\\xe7\\x90\\x86\\xe5\\x9d\\x90\\xe6\\xa0\\x87': b'0.9688425326486048', b'partial:18:\\xe5\\x9f\\x8e\\xe7\\xae\\xa1': b'1.1510499187169054', b'partial:18:\\xe5\\xa4\\x9a\\xe6\\x80\\x81': b'0.9688425326486048', b'partial:18:\\xe5\\xa4\\x9a\\xe7\\xbb\\xa7\\xe6\\x89\\xbf': b'1.130316288090039', b'partial:18:\\xe5\\xa4\\x9a\\xe8\\xbf\\x9b\\xe7\\xa8\\x8b': b'1.1205335403132364', b'partial:18:\\xe5\\xa4\\xa7\\xe7\\x86\\x8a': b'1.1224348822166488', b'partial:18:\\xe5\\xa4\\xb4\\xe9\\x83\\xa8': b'0.16118615766211886', b'partial:18:\\xe5\\xad\\x90\\xe7\\xb1\\xbb': b'1.130316288090039', b'partial:18:\\xe5\\xad\\x90\\xe7\\xba\\xbf\\xe7\\xa8\\x8b': b'0.9604573202684883', b'partial:18:\\xe5\\xad\\x90\\xe8\\xbf\\x9b\\xe7\\xa8\\x8b': b'1.1205335403132364', b'partial:18:\\xe5\\xad\\x97\\xe5\\x85\\xb8': b'1.1205335403132364', b'partial:18:\\xe5\\xad\\x97\\xe6\\xae\\xb5': b'0.16007622004474806', b'partial:18:\\xe5\\xad\\x97\\xe7\\xac\\xa6\\xe4\\xb8\\xb2': b'1.1205335403132364', b'partial:18:\\xe5\\xad\\x97\\xe8\\x8a\\x82': b'0.1622116330120639', b'partial:18:\\xe5\\xae\\x9e\\xe5\\x8f\\x82': b'0.9688425326486048', b'partial:18:\\xe5\\xaf\\x86\\xe7\\xa0\\x81\\xe6\\x9c\\xac': b'0.1622116330120639', b'partial:18:\\xe5\\xaf\\xb9\\xe8\\xb1\\xa1': b'1.128303103634832', b'partial:18:\\xe5\\xb0\\x86\\xe6\\x95\\xb0': b'0.9620870418999846', b'partial:18:\\xe5\\xb0\\x8f\\xe7\\x8c\\xaa': b'0.9688425326486048', b'partial:18:\\xe5\\xb0\\x8f\\xe7\\x94\\xb2\\xe9\\xb1\\xbc': b'0.9688425326486048', b'partial:18:\\xe5\\xb9\\xb4\\xe9\\xbe\\x84': b'0.9688425326486048', b'partial:18:\\xe5\\xbc\\x80\\xe5\\x8f\\x91\\xe7\\x8e\\xaf\\xe5\\xa2\\x83\\xe9\\x85\\x8d\\xe7\\xbd\\xae': b'1.1224348822166488', b'partial:18:\\xe5\\xbc\\x95\\xe5\\x8f\\xb7': b'1.1510499187169054', b'partial:18:\\xe5\\xbd\\xa2\\xe5\\x8f\\x82': b'0.9688425326486048', b'partial:18:\\xe6\\x80\\xa7\\xe5\\x88\\xab': b'0.1622116330120639', b'partial:18:\\xe6\\x80\\xaa\\xe7\\x89\\xa9': b'0.9620870418999846', b'partial:18:\\xe6\\x81\\x90\\xe6\\x80\\x96\\xe5\\x88\\x86\\xe5\\xad\\x90': b'0.9688425326486048', b'partial:18:\\xe6\\x88\\x91\\xe5\\x86\\x9b': b'0.9688425326486048', b'partial:18:\\xe6\\x88\\xb7\\xe8\\xbe\\x93': b'1.1354814310844472', b'partial:18:\\xe6\\x8a\\x80\\xe8\\x83\\xbd': b'1.128303103634832', b'partial:18:\\xe6\\x8a\\xbd\\xe8\\xb1\\xa1\\xe7\\xb1\\xbb': b'1.130316288090039', b'partial:18:\\xe6\\x8b\\xac\\xe5\\x8f\\xb7': b'0.9620870418999846', b'partial:18:\\xe6\\x8c\\x87\\xe5\\xae\\x9a\\xe4\\xbd\\x8d\\xe7\\xbd\\xae': b'0.16007622004474806', b'partial:18:\\xe6\\x8e\\xa5\\xe5\\x8f\\xa3\\xe7\\xb1\\xbb': b'1.130316288090039', b'partial:18:\\xe6\\x95\\xb4\\xe6\\x95\\xb0': b'1.1354814310844472', b'partial:18:\\xe6\\x96\\x87\\xe6\\xa1\\xa3\\xe6\\xb3\\xa8\\xe9\\x87\\x8a': b'0.9688425326486048', b'partial:18:\\xe6\\x96\\xb0\\xe5\\xbc\\x8f': b'1.130316288090039', b'partial:18:\\xe6\\x96\\xb9\\xe6\\xb3\\x95': b'0.16007622004474806', b'partial:18:\\xe6\\x97\\xb6\\xe9\\x97\\xb4\\xe7\\x89\\x87': b'1.1263189633826634', b'partial:18:\\xe6\\x98\\x9f\\xe5\\x8f\\xb7': b'0.9688425326486048', b'partial:18:\\xe6\\x9d\\xa1\\xe4\\xbb\\xb6': b'0.9604573202684883', b'partial:18:\\xe6\\x9d\\xa1\\xe4\\xbb\\xb6\\xe8\\xaf\\xad\\xe5\\x8f\\xa5': b'1.1510499187169054', b'partial:18:\\xe6\\x9e\\x90\\xe6\\x9e\\x84': b'0.9671169459727131', b'partial:18:\\xe6\\xa0\\xa1\\xe5\\x8c\\xba': b'1.130316288090039', b'partial:18:\\xe6\\xa0\\xbc\\xe5\\xbc\\x8f\\xe5\\x8c\\x96': b'0.9688425326486048', b'partial:18:\\xe6\\xa0\\xbc\\xe5\\xbc\\x8f\\xe5\\x8c\\x96\\xe8\\xbe\\x93\\xe5\\x87\\xba': b'0.1622116330120639', b'partial:18:\\xe6\\xad\\xa3\\xe6\\x96\\xb9\\xe4\\xbd\\x93': b'1.1224348822166488', b'partial:18:\\xe6\\xad\\xa5\\xe9\\x95\\xbf': b'0.16007622004474806', b'partial:18:\\xe6\\xb4\\xbe\\xe7\\x94\\x9f\\xe7\\xb1\\xbb': b'0.16007622004474806', b'partial:18:\\xe6\\xb5\\xae\\xe7\\x82\\xb9\\xe6\\x95\\xb0': b'0.9620870418999846', b'partial:18:\\xe6\\xb6\\x88\\xe8\\xb4\\xb9\\xe8\\x80\\x85': b'0.9604573202684883', b'partial:18:\\xe6\\xb8\\xb8\\xe6\\x88\\x8f\\xe5\\x8e\\x85': b'1.1354814310844472', b'partial:18:\\xe7\\x81\\xab\\xe7\\xba\\xbf': b'0.9620870418999846', b'partial:18:\\xe7\\x88\\xb6\\xe7\\xb1\\xbb': b'1.130316288090039', b'partial:18:\\xe7\\x89\\xb9\\xe5\\xbe\\x81': b'1.128303103634832', b'partial:18:\\xe7\\x8c\\x8e\\xe4\\xba\\xba': b'0.9620870418999846', b'partial:18:\\xe7\\x8e\\x8b\\xe5\\x81\\xa5\\xe6\\x9e\\x97': b'0.9620870418999846', b'partial:18:\\xe7\\x94\\x9f\\xe4\\xba\\xa7\\xe8\\x80\\x85': b'1.1263189633826634', b'partial:18:\\xe7\\x99\\xbb\\xe5\\xbd\\x95\\xe6\\xb3\\xa8\\xe5\\x86\\x8c': b'0.9654162543279972', b'partial:18:\\xe7\\x99\\xbd\\xe9\\x87\\x91': b'1.1510499187169054', b'partial:18:\\xe7\\xa5\\x9d\\xe7\\xa6\\x8f': b'1.130316288090039', b'partial:18:\\xe7\\xb4\\xa2\\xe5\\xbc\\x95': b'1.1205335403132364', b'partial:18:\\xe7\\xba\\xbf\\xe7\\xa8\\x8b': b'1.1205335403132364', b'partial:18:\\xe7\\xbb\\x8f\\xe5\\x85\\xb8': b'1.1263189633826634', b'partial:18:\\xe7\\xbc\\x96\\xe7\\xa0\\x81\\xe6\\x96\\xb9\\xe5\\xbc\\x8f': b'1.1224348822166488', b'partial:18:\\xe7\\xbc\\x96\\xe7\\xa8\\x8b': b'0.9688425326486048', b'partial:18:\\xe8\\x8a\\xb1\\xe6\\xa4\\x92': b'1.1510499187169054', b'partial:18:\\xe8\\x8e\\xb7\\xe5\\x8f\\x96\\xe5\\x80\\xbc': b'1.1263189633826634', b'partial:18:\\xe8\\xa3\\x85\\xe9\\xa5\\xb0': b'1.1224348822166488', b'partial:18:\\xe8\\xb5\\x8b\\xe5\\x80\\xbc\\xe8\\xbf\\x90\\xe7\\xae\\x97\\xe7\\xac\\xa6': b'0.1622116330120639', b'partial:18:\\xe8\\xb7\\xb3\\xe5\\x87\\xba\\xe5\\xbe\\xaa\\xe7\\x8e\\xaf': b'1.1510499187169054', b'partial:18:\\xe8\\xbf\\x90\\xe8\\xa1\\x8c\\xe6\\x97\\xb6\\xe9\\x97\\xb4': b'0.9604573202684883', b'partial:18:\\xe8\\xbf\\x94\\xe5\\x9b\\x9e\\xe5\\x80\\xbc': b'0.9654162543279972', b'partial:18:\\xe8\\xbf\\x9b\\xe7\\xa8\\x8b': b'1.1205335403132364', b'partial:18:\\xe8\\xbf\\x9b\\xe7\\xa8\\x8b\\xe6\\xb1\\xa0': b'1.1205335403132364', b'partial:18:\\xe9\\x93\\x82\\xe9\\x87\\x91': b'1.1510499187169054', b'partial:18:\\xe9\\x98\\x9f\\xe5\\x88\\x97': b'1.1205335403132364', b'partial:18:\\xe9\\x9d\\x99\\xe6\\x80\\x81': b'0.16118615766211886', b'partial:18:\\xe9\\x9d\\xa2\\xe5\\x90\\x91\\xe5\\xaf\\xb9\\xe8\\xb1\\xa1': b'0.9688425326486048', b'partial:18:\\xe9\\x9d\\xa2\\xe5\\x90\\x91\\xe8\\xbf\\x87\\xe7\\xa8\\x8b': b'0.9688425326486048', b'partial:18:\\xe9\\xa2\\x98\\xe7\\x9b\\xae': b'0.9620870418999846', b'partial:18:\\xe9\\xa9\\xac\\xe4\\xba\\x91': b'0.9620870418999846', b'partial:18:\\xe9\\xad\\x94\\xe6\\x96\\xb9': b'1.1224348822166488', b'partial:18:\\xe9\\xb8\\xad\\xe5\\xad\\x90': b'0.16118615766211886', b'partial:18:\\xe9\\xbb\\x98\\xe8\\xae\\xa4\\xe5\\x8f\\x82\\xe6\\x95\\xb0': b'0.9688425326486048', b'partial:18:##': b'1.1224348822166488', b'partial:18:####': b'1.1263189633826634', b'partial:18:&#': b'0.9688425326486048', b'partial:18:+++': b'0.9604573202684883', b'partial:18:+++++': b'0.9604573202684883', b'partial:18:.a': b'0.9620870418999846', b'partial:18:3g': b'0.9620870418999846', b'partial:18:ABCMeta': b'1.130316288090039', b'partial:18:ASCII\\xe7\\xa0\\x81': b'0.16118615766211886', b'partial:18:Ali': b'0.16118615766211886', b'partial:18:Alice': b'0.16118615766211886', b'partial:18:Animal': b'1.130316288090039', b'partial:18:BBQ': b'0.9604573202684883', b'partial:18:BMI': b'0.16007622004474806', b'partial:18:Bar': b'0.9688425326486048', b'partial:18:Bob': b'0.16118615766211886', b'partial:18:Chinese': b'1.1263189633826634', b'partial:18:Code': b'0.9604573202684883', b'partial:18:DNF': b'0.9620870418999846', b'partial:18:False': b'0.1622116330120639', b'partial:18:Foo': b'0.9688425326486048', b'partial:18:GBK': b'0.9620870418999846', b'partial:18:Initialized': b'0.9688425326486048', b'partial:18:Item': b'0.9688425326486048', b'partial:18:Mooc': b'1.130316288090039', b'partial:18:MyType': b'1.1263189633826634', b'partial:18:OPERATOR': b'0.9620870418999846', b'partial:18:Oldboy': b'1.128303103634832', b'partial:18:ParentClass1': b'1.130316288090039', b'partial:18:Payment': b'0.16118615766211886', b'partial:18:People': b'0.9688425326486048', b'partial:18:Person': b'1.1263189633826634', b'partial:18:Pig': b'0.9688425326486048', b'partial:18:Process': b'1.1205335403132364', b'partial:18:Pycharm': b'1.1224348822166488', b'partial:18:Python\\xe8\\x84\\x9a\\xe6\\x9c\\xac': b'1.1224348822166488', b'partial:18:Queue': b'0.16007622004474806', b'partial:18:Robot': b'0.9688425326486048', b'partial:18:Room': b'1.130316288090039', b'partial:18:SOCK': b'1.1263189633826634', b'partial:18:School': b'1.130316288090039', b'partial:18:SchoolMember': b'0.9688425326486048', b'partial:18:Son': b'0.16118615766211886', b'partial:18:Student': b'1.128303103634832', b'partial:18:TOM': b'1.1224348822166488', b'partial:18:Temp': b'0.9620870418999846', b'partial:18:Thread': b'0.9604573202684883', b'partial:18:True': b'0.1622116330120639', b'partial:18:ValueError': b'0.9688425326486048', b'partial:18:Vera': b'1.1224348822166488', b'partial:18:View': b'0.9604573202684883', b'partial:18:Wechat': b'0.16118615766211886', b'partial:18:__': b'0.9688425326486048', b'partial:18:__&#': b'0.9671169459727131', b'partial:18:____': b'0.9671169459727131', b'partial:18:aa3': b'0.9671169459727131', b'partial:18:abc': b'1.130316288090039', b'partial:18:abc12': b'0.16007622004474806', b'partial:18:abs': b'0.9620870418999846', b'partial:18:addr': b'1.1224348822166488', b'partial:18:age': b'0.9688425326486048', b'partial:18:aim': b'0.9620870418999846', b'partial:18:alex': b'0.9604573202684883', b'partial:18:apple': b'0.9688425326486048', b'partial:18:args': b'1.1224348822166488', b'partial:18:ascii': b'0.16118615766211886', b'partial:18:asdf': b'1.1263189633826634', b'partial:18:atm': b'0.9688425326486048', b'partial:18:banana': b'0.9688425326486048', b'partial:18:bar': b'0.16118615766211886', b'partial:18:bmi': b'0.16007622004474806', b'partial:18:bool': b'1.1354814310844472', b'partial:18:bracket': b'0.9620870418999846', b'partial:18:break': b'0.1622116330120639', b'partial:18:builtins': b'0.16118615766211886', b'partial:18:bx1': b'1.130316288090039', b'partial:18:cal': b'0.9604573202684883', b'partial:18:calc': b'1.1263189633826634', b'partial:18:carrot': b'0.9688425326486048', b'partial:18:casefold': b'0.9604573202684883', b'partial:18:cdt': b'0.9604573202684883', b'partial:18:chi': b'1.130316288090039', b'partial:18:choice': b'1.1263189633826634', b'partial:18:choose': b'1.128303103634832', b'partial:18:chose': b'0.9620870418999846', b'partial:18:class': b'0.9688425326486048', b'partial:18:clear': b'0.9620870418999846', b'partial:18:client': b'1.1263189633826634', b'partial:18:close': b'0.9654162543279972', b'partial:18:cls': b'0.16007622004474806', b'partial:18:cmds': b'1.1263189633826634', b'partial:18:complex': b'1.1224348822166488', b'partial:18:con': b'1.1205335403132364', b'partial:18:conn': b'1.1263189633826634', b'partial:18:conn1': b'0.16007622004474806', b'partial:18:consume': b'1.1263189633826634', b'partial:18:content': b'1.1354814310844472', b'partial:18:converted': b'0.9688425326486048', b'partial:18:count': b'0.1622116330120639', b'partial:18:country': b'0.9688425326486048', b'partial:18:courses': b'0.9688425326486048', b'partial:18:cquire': b'0.9604573202684883', b'partial:18:createNode': b'1.1224348822166488', b'partial:18:data': b'1.1205335403132364', b'partial:18:db1': b'1.128303103634832', b'partial:18:def': b'0.9688425326486048', b'partial:18:del': b'1.1205335403132364', b'partial:18:delitem': b'0.9671169459727131', b'partial:18:dic': b'1.1205335403132364', b'partial:18:dic1': b'1.1263189633826634', b'partial:18:dict': b'1.128303103634832', b'partial:18:dir': b'0.16118615766211886', b'partial:18:divisible': b'0.9688425326486048', b'partial:18:dollar': b'0.9688425326486048', b'partial:18:duoduo': b'0.9688425326486048', b'partial:18:eat': b'1.130316288090039', b'partial:18:elif': b'0.9620870418999846', b'partial:18:encode': b'0.9654162543279972', b'partial:18:encoding': b'0.9654162543279972', b'partial:18:endswith': b'1.1263189633826634', b'partial:18:enumerate': b'1.1263189633826634', b'partial:18:eval': b'0.9620870418999846', b'partial:18:eve': b'0.9604573202684883', b'partial:18:exec1': b'1.128303103634832', b'partial:18:extend': b'0.9654162543279972', b'partial:18:extra': b'0.9688425326486048', b'partial:18:eye': b'1.1224348822166488', b'partial:18:figurea': b'0.9620870418999846', b'partial:18:filter': b'0.9620870418999846', b'partial:18:flag': b'0.1622116330120639', b'partial:18:float': b'0.16118615766211886', b'partial:18:foo': b'0.16007622004474806', b'partial:18:foo1': b'0.9604573202684883', b'partial:18:format': b'1.1263189633826634', b'partial:18:func': b'1.130316288090039', b'partial:18:func1': b'0.16118615766211886', b'partial:18:gbk': b'1.1224348822166488', b'partial:18:gender': b'1.128303103634832', b'partial:18:geo': b'1.1224348822166488', b'partial:18:getitem': b'0.9671169459727131', b'partial:18:getpid': b'1.1205335403132364', b'partial:18:gevent': b'1.1205335403132364', b'partial:18:greenlet': b'1.1205335403132364', b'partial:18:hash': b'1.130316288090039', b'partial:18:hehe': b'1.1205335403132364', b'partial:18:hobby': b'1.1224348822166488', b'partial:18:home': b'1.1224348822166488', b'partial:18:hou': b'1.1224348822166488', b'partial:18:houdini': b'1.1224348822166488', b'partial:18:import': b'1.1205335403132364', b'partial:18:index': b'1.1263189633826634', b'partial:18:info': b'1.1263189633826634', b'partial:18:info1': b'0.9604573202684883', b'partial:18:info2': b'0.9604573202684883', b'partial:18:init': b'0.16118615766211886', b'partial:18:inp': b'1.1510499187169054', b'partial:18:input': b'1.1263189633826634', b'partial:18:insert': b'0.16007622004474806', b'partial:18:int': b'0.9620870418999846', b'partial:18:introduce': b'1.1224348822166488', b'partial:18:isalnum': b'0.9604573202684883', b'partial:18:isalpha': b'0.9604573202684883', b'partial:18:isinstance': b'0.9688425326486048', b'partial:18:item': b'1.1263189633826634', b'partial:18:join': b'1.1205335403132364', b'partial:18:js1': b'1.130316288090039', b'partial:18:key': b'0.9671169459727131', b'partial:18:keys': b'1.1263189633826634', b'partial:18:kk2': b'1.1263189633826634', b'partial:18:kwargs': b'1.1224348822166488', b'partial:18:lambda': b'0.9620870418999846', b'partial:18:len': b'1.1354814310844472', b'partial:18:list': b'0.9620870418999846', b'partial:18:lock1': b'0.9604573202684883', b'partial:18:lock2': b'0.9604573202684883', b'partial:18:logging': b'1.1263189633826634', b'partial:18:lst': b'1.130316288090039', b'partial:18:luffycity': b'1.1263189633826634', b'partial:18:male': b'1.1263189633826634', b'partial:18:mango': b'0.9688425326486048', b'partial:18:map': b'0.9620870418999846', b'partial:18:mar': b'1.1205335403132364', b'partial:18:matchObj': b'0.9620870418999846', b'partial:18:metaclass': b'1.130316288090039', b'partial:18:mid': b'0.9620870418999846', b'partial:18:mingzi': b'0.9688425326486048', b'partial:18:mode': b'0.9654162543279972', b'partial:18:money': b'1.130316288090039', b'partial:18:monkey': b'1.1205335403132364', b'partial:18:mouse': b'1.1224348822166488', b'partial:18:movie': b'1.1263189633826634', b'partial:18:mro': b'1.1263189633826634', b'partial:18:msg': b'0.1622116330120639', b'partial:18:mylist': b'0.9688425326486048', b'partial:18:nub': b'0.9620870418999846', b'partial:18:num': b'0.9620870418999846', b'partial:18:obj': b'0.9688425326486048', b'partial:18:obj1': b'1.128303103634832', b'partial:18:obj3': b'0.9688425326486048', b'partial:18:object': b'1.1263189633826634', b'partial:18:open': b'0.9654162543279972', b'partial:18:pa': b'0.16118615766211886', b'partial:18:peiqi': b'0.9688425326486048', b'partial:18:people': b'1.1263189633826634', b'partial:18:period': b'1.130316288090039', b'partial:18:pid': b'1.1205335403132364', b'partial:18:poem': b'0.9688425326486048', b'partial:18:pool': b'1.1205335403132364', b'partial:18:pop': b'0.9654162543279972', b'partial:18:portfolio': b'0.9620870418999846', b'partial:18:ppend': b'0.9620870418999846', b'partial:18:prd': b'0.9604573202684883', b'partial:18:price': b'0.16007622004474806', b'partial:18:print': b'0.9688425326486048', b'partial:18:pro': b'1.1205335403132364', b'partial:18:produce': b'1.1263189633826634', b'partial:18:producer': b'1.1205335403132364', b'partial:18:property': b'0.9688425326486048', b'partial:18:put': b'1.1205335403132364', b'partial:18:pycharm': b'1.1224348822166488', b'partial:18:python': b'0.9604573202684883', b'partial:18:python2': b'1.1263189633826634', b'partial:18:raise': b'0.9688425326486048', b'partial:18:rams': b'0.9688425326486048', b'partial:18:randint': b'0.9620870418999846', b'partial:18:range': b'0.9620870418999846', b'partial:18:rea': b'0.9688425326486048', b'partial:18:read': b'0.9654162543279972', b'partial:18:recv': b'1.1263189633826634', b'partial:18:remove': b'0.16007622004474806', b'partial:18:request': b'1.1224348822166488', b'partial:18:res': b'1.1263189633826634', b'partial:18:ress': b'0.9604573202684883', b'partial:18:ret': b'0.9604573202684883', b'partial:18:reverse': b'0.9654162543279972', b'partial:18:role': b'0.16007622004474806', b'partial:18:s10': b'1.1205335403132364', b'partial:18:s11': b'0.9604573202684883', b'partial:18:salary': b'1.128303103634832', b'partial:18:saySomething': b'0.9688425326486048', b'partial:18:school': b'1.128303103634832', b'partial:18:seek': b'0.9654162543279972', b'partial:18:send': b'1.1263189633826634', b'partial:18:sep': b'0.9604573202684883', b'partial:18:set': b'1.1224348822166488', b'partial:18:setitem': b'0.9671169459727131', b'partial:18:sex': b'0.9688425326486048', b'partial:18:shang': b'1.1263189633826634', b'partial:18:shares': b'0.9620870418999846', b'partial:18:sheng': b'0.9688425326486048', b'partial:18:shoplist': b'0.9688425326486048', b'partial:18:show': b'0.16007622004474806', b'partial:18:sit': b'0.9620870418999846', b'partial:18:sleep': b'0.16007622004474806', b'partial:18:socket': b'1.1263189633826634', b'partial:18:son': b'0.16007622004474806', b'partial:18:sorted': b'0.16007622004474806', b'partial:18:speak': b'0.9688425326486048', b'partial:18:sswd': b'1.1224348822166488', b'partial:18:start': b'0.9604573202684883', b'partial:18:startswith': b'1.1205335403132364', b'partial:18:staticmethod': b'0.16007622004474806', b'partial:18:stop': b'0.9604573202684883', b'partial:18:str': b'0.9604573202684883', b'partial:18:strip': b'1.1354814310844472', b'partial:18:student': b'1.1224348822166488', b'partial:18:sum': b'1.1354814310844472', b'partial:18:super': b'1.130316288090039', b'partial:18:taibai': b'0.9604573202684883', b'partial:18:talk': b'1.1263189633826634', b'partial:18:target': b'1.1263189633826634', b'partial:18:targetPath': b'0.9620870418999846', b'partial:18:temp': b'0.9620870418999846', b'partial:18:tesla': b'0.9654162543279972', b'partial:18:test': b'0.9688425326486048', b'partial:18:test03': b'1.1263189633826634', b'partial:18:threading': b'1.1205335403132364', b'partial:18:time': b'1.1205335403132364', b'partial:18:tipliers': b'0.9620870418999846', b'partial:18:tiprocess': b'1.1263189633826634', b'partial:18:tiprocessing': b'1.1205335403132364', b'partial:18:unicode': b'1.1224348822166488', b'partial:18:update': b'1.1263189633826634', b'partial:18:upper': b'1.1354814310844472', b'partial:18:utf': b'1.1224348822166488', b'partial:18:vv1': b'1.1263189633826634', b'partial:18:vv2': b'1.1263189633826634', b'partial:18:while\\xe5\\xbe\\xaa\\xe7\\x8e\\xaf': b'0.1622116330120639', b'partial:18:women': b'1.1205335403132364', b'partial:18:words': b'0.9688425326486048', b'partial:18:write': b'0.9654162543279972', b'partial:18:wuqi': b'0.9688425326486048', b'partial:18:wusir': b'1.1205335403132364', b'partial:18:xa5': b'0.16118615766211886', b'partial:18:xbd': b'0.16118615766211886', b'partial:18:year': b'1.1263189633826634', b'partial:18:years': b'1.1224348822166488', b'partial:18:zfill': b'0.9688425326486048', b'partial:18:zhao': b'0.9688425326486048', b'partial:18:zoo': b'0.9688425326486048'}\n"
     ]
    }
   ],
   "source": [
    "# 查询存储结果\n",
    "import happybase\n",
    "#  用于读取hbase缓存结果配置\n",
    "pool = happybase.ConnectionPool(size=10, host='192.168.19.137', port=9090)\n",
    "\n",
    "with pool.connection() as conn:\n",
    "    table = conn.table('user_profile')\n",
    "    # 获取每个键 对应的所有列的结果\n",
    "    data = table.row(b'user:2', columns=[b'partial'])\n",
    "    print(data)\n",
    "    conn.close()"
   ]
  },
  {
   "cell_type": "code",
   "execution_count": 38,
   "metadata": {},
   "outputs": [],
   "source": [
    "# 将用户的基础信息更新到用户画像中\n",
    "\n",
    "def update_user_info():\n",
    "    \"\"\"\n",
    "    更新用户的基础信息画像\n",
    "    :return:\n",
    "    \"\"\"\n",
    "    uup.spark.sql(\"use toutiao\")\n",
    "\n",
    "    user_basic = uup.spark.sql(\"select user_id, gender, birthday from user_profile\")\n",
    "\n",
    "    # 更新用户基础信息\n",
    "    def _udapte_user_basic(partition):\n",
    "        \"\"\"更新用户基本信息\n",
    "        \"\"\"\n",
    "        import happybase\n",
    "        import json\n",
    "        #  用于读取hbase缓存结果配置\n",
    "        pool = happybase.ConnectionPool(size=10, host='192.168.19.137', port=9090)\n",
    "        for row in partition:\n",
    "\n",
    "            from datetime import date\n",
    "            age = 0\n",
    "            if row.birthday != 'null':\n",
    "                born = datetime.strptime(row.birthday, '%Y-%m-%d')\n",
    "                today = date.today()\n",
    "                age = today.year - born.year - ((today.month, today.day) < (born.month, born.day))\n",
    "\n",
    "            with pool.connection() as conn:\n",
    "                table = conn.table('user_profile')\n",
    "                table.put('user:{}'.format(row.user_id).encode(),\n",
    "                          {'basic:gender'.encode(): json.dumps(row.gender).encode()})\n",
    "                table.put('user:{}'.format(row.user_id).encode(),\n",
    "                          {'basic:birthday'.encode(): json.dumps(age).encode()})\n",
    "                conn.close()\n",
    "\n",
    "    user_basic.foreachPartition(_udapte_user_basic)"
   ]
  },
  {
   "cell_type": "code",
   "execution_count": 39,
   "metadata": {},
   "outputs": [],
   "source": [
    "# update_user_info()"
   ]
  },
  {
   "cell_type": "code",
   "execution_count": null,
   "metadata": {},
   "outputs": [],
   "source": []
  }
 ],
 "metadata": {
  "kernelspec": {
   "display_name": "Python 3",
   "language": "python",
   "name": "python3"
  },
  "language_info": {
   "codemirror_mode": {
    "name": "ipython",
    "version": 3
   },
   "file_extension": ".py",
   "mimetype": "text/x-python",
   "name": "python",
   "nbconvert_exporter": "python",
   "pygments_lexer": "ipython3",
   "version": "3.6.7"
  }
 },
 "nbformat": 4,
 "nbformat_minor": 1
}
