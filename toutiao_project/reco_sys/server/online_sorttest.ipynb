{
 "cells": [
  {
   "cell_type": "code",
   "execution_count": 2,
   "metadata": {},
   "outputs": [],
   "source": [
    "import os\n",
    "import sys\n",
    "# 如果当前代码文件运行测试需要加入修改路径，避免出现后导包问题\n",
    "BASE_DIR = os.path.dirname(os.getcwd())\n",
    "sys.path.insert(0, os.path.join(BASE_DIR))\n",
    "\n",
    "PYSPARK_PYTHON = \"/miniconda2/envs/reco_sys/bin/python\"\n",
    "os.environ[\"PYSPARK_PYTHON\"] = PYSPARK_PYTHON\n",
    "os.environ[\"PYSPARK_DRIVER_PYTHON\"] = PYSPARK_PYTHON\n",
    "from pyspark import SparkConf\n",
    "from pyspark.sql import SparkSession\n",
    "from server.utils import HBaseUtils\n",
    "from server import pool\n",
    "from pyspark.ml.linalg import DenseVector\n",
    "from pyspark.ml.classification import LogisticRegressionModel\n",
    "import pandas as pd\n",
    "\n",
    "\n",
    "conf = SparkConf()\n",
    "config = (\n",
    "    (\"spark.app.name\", \"sort\"),\n",
    "    (\"spark.executor.memory\", \"2g\"),    # 设置该app启动时占用的内存用量，默认1g\n",
    "    (\"spark.master\", 'local[2]'),\n",
    "    (\"spark.executor.cores\", \"2\"),   # 设置spark executor使用的CPU核心数\n",
    ")\n",
    "\n",
    "conf.setAll(config)\n",
    "spark = SparkSession.builder.config(conf=conf).getOrCreate()"
   ]
  },
  {
   "cell_type": "code",
   "execution_count": 7,
   "metadata": {},
   "outputs": [],
   "source": [
    "# 1、读取用户特征中心特征hbase\n",
    "hbu = HBaseUtils(pool)\n",
    "try:\n",
    "    # 找你数据库中有的测试数据\n",
    "    user_feature = eval(hbu.get_table_row('ctr_feature_user',\n",
    "                                    '{}'.format(1113244157343694848).encode(),\n",
    "                                    'channel:{}'.format(18).encode()))\n",
    "except Exception as e:\n",
    "    user_feature = []"
   ]
  },
  {
   "cell_type": "code",
   "execution_count": 8,
   "metadata": {},
   "outputs": [
    {
     "data": {
      "text/plain": [
       "[0.16443570267384364,\n",
       " 0.16443570267384364,\n",
       " 0.16443570267384364,\n",
       " 0.16443570267384364,\n",
       " 0.16443570267384364,\n",
       " 0.16443570267384364,\n",
       " 0.16443570267384364,\n",
       " 0.16443570267384364,\n",
       " 0.16443570267384364,\n",
       " 0.16443570267384364]"
      ]
     },
     "execution_count": 8,
     "metadata": {},
     "output_type": "execute_result"
    }
   ],
   "source": [
    "# 如果用户特征存在，进行文章特征获取，构造样本， 样本数量 == 文章数量\n",
    "# if user_feature:\n",
    "user_feature"
   ]
  },
  {
   "cell_type": "code",
   "execution_count": 9,
   "metadata": {},
   "outputs": [],
   "source": [
    "# 2、读取文章特征中心特征、合并用户文章特征构造预测样本\n",
    "result = []\n",
    "for article_id in [17749, 17748, 44371, 44368]:\n",
    "    \n",
    "    try:\n",
    "        article_feature = eval(hbu.get_table_row('ctr_feature_article',\n",
    "                                           '{}'.format(article_id).encode(),\n",
    "                                           'article:{}'.format(article_id).encode()))\n",
    "        # article_feature组成1 channel_id, 10 article_weights, 100 article_vector\n",
    "    except Exception as e:\n",
    "        article_feature = [0.0] * 111\n",
    "    \n",
    "    # 一个用户与四篇文章构造成四个样本,训练特征顺序\n",
    "    # 'channel_id', 'articlevector', 'weights', 'article_weights'合并成一个features\n",
    "    f = []\n",
    "    # channel_id\n",
    "    f.extend([article_feature[0]])\n",
    "    # articlevector\n",
    "    f.extend(article_feature[11:])\n",
    "    # weights 用户\n",
    "    f.extend(user_feature)\n",
    "    # article_weights\n",
    "    f.extend(article_feature[1:11])\n",
    "    # f 121维的特征\n",
    "    # f 也就是一个样本的feature拼接完成\n",
    "    features = DenseVector(f)\n",
    "    result.append([1115629498121846784, article_id, features])"
   ]
  },
  {
   "cell_type": "code",
   "execution_count": 10,
   "metadata": {},
   "outputs": [
    {
     "data": {
      "text/plain": [
       "[[1115629498121846784,\n",
       "  17749,\n",
       "  DenseVector([18.0, 0.1227, 0.081, 0.034, 0.1269, -0.0256, 0.0209, -0.0063, 0.0983, -0.1121, 0.0009, -0.1636, 0.0753, 0.0187, 0.1265, -0.0363, 0.0467, -0.0083, 0.0357, -0.0022, 0.0354, -0.0645, 0.0585, -0.0616, 0.0242, -0.1319, -0.0823, 0.0962, 0.1201, 0.0466, -0.1208, -0.0107, 0.0868, 0.1241, 0.112, -0.111, 0.0271, -0.0727, -0.0639, 0.0935, -0.0096, 0.0967, -0.1252, -0.0392, 0.0469, 0.0027, 0.0239, 0.16, 0.0368, -0.1017, 0.0621, -0.029, -0.0463, 0.1203, 0.0851, 0.0117, 0.0537, 0.0098, -0.0483, 0.0364, 0.074, 0.0594, -0.122, 0.0138, -0.1525, -0.0137, 0.0899, -0.0316, -0.0336, 0.0451, -0.0646, 0.0084, -0.0082, -0.0234, -0.0715, 0.0266, 0.0372, 0.0822, -0.0082, 0.1135, -0.038, 0.0764, -0.1058, 0.0339, 0.0042, 0.0242, 0.0618, 0.0107, 0.0233, -0.0336, 0.1457, 0.0417, 0.1061, 0.1189, 0.0262, 0.0553, -0.0316, -0.0822, -0.1244, -0.0507, 0.197, 0.1644, 0.1644, 0.1644, 0.1644, 0.1644, 0.1644, 0.1644, 0.1644, 0.1644, 0.1644, 0.1297, 0.1385, 0.1575, 0.1902, 0.2114, 0.238, 0.2437, 0.266, 0.2715, 0.2896])],\n",
       " [1115629498121846784,\n",
       "  17748,\n",
       "  DenseVector([18.0, 0.1234, 0.0566, -0.0314, 0.2296, 0.0113, 0.0757, -0.0972, 0.0939, -0.0819, -0.0721, -0.1878, 0.0671, 0.0689, 0.1688, -0.0212, 0.0319, -0.0647, 0.0072, 0.0152, -0.0636, -0.0191, 0.0392, -0.0336, 0.0796, -0.1066, -0.1103, 0.1481, 0.0899, 0.0474, -0.1407, 0.0291, 0.0466, 0.1754, 0.1243, -0.0565, 0.0819, -0.1136, -0.0143, 0.0845, 0.0482, 0.1387, -0.0951, -0.0169, 0.1267, -0.0111, 0.0307, 0.1391, 0.037, -0.0915, -0.0117, -0.0468, -0.0758, 0.1261, 0.0817, 0.0055, 0.0339, 0.023, -0.0987, 0.0551, 0.0404, 0.0725, -0.0883, 0.0085, -0.2063, -0.0048, 0.085, -0.0555, -0.047, 0.1109, -0.061, 0.017, -0.0232, 0.0203, -0.0589, 0.1013, 0.0258, 0.0896, -0.0315, 0.0341, -0.0126, 0.1437, -0.1006, 0.062, 0.0088, 0.0781, -0.0476, -0.0363, -0.0885, -0.039, 0.1527, 0.0302, 0.1112, 0.116, 0.0665, 0.0638, -0.0069, -0.0922, -0.184, -0.0761, 0.1064, 0.1644, 0.1644, 0.1644, 0.1644, 0.1644, 0.1644, 0.1644, 0.1644, 0.1644, 0.1644, 0.1538, 0.1547, 0.1694, 0.1896, 0.2788, 0.2871, 0.3143, 0.3314, 0.3726, 0.4009])],\n",
       " [1115629498121846784,\n",
       "  44371,\n",
       "  DenseVector([18.0, 0.1265, 0.0466, 0.0268, 0.137, 0.0494, 0.0297, -0.0898, 0.0828, -0.0546, -0.0535, -0.1985, 0.0969, 0.1463, 0.0947, -0.0211, 0.0066, 0.0506, 0.0239, 0.0347, 0.1554, -0.1036, 0.0601, -0.0137, 0.0383, -0.0956, 0.0004, 0.0545, 0.0081, 0.1215, -0.2387, -0.1058, -0.0039, 0.1539, 0.1715, -0.1171, 0.0699, -0.0509, -0.076, 0.0685, 0.0182, 0.166, -0.0667, -0.0385, 0.0661, -0.057, -0.0108, 0.1618, 0.0477, -0.1415, 0.0651, 0.0081, -0.0217, 0.0702, 0.0547, 0.0266, 0.0867, -0.0351, -0.0895, 0.1405, 0.0914, 0.1018, -0.1347, 0.1123, -0.2125, 0.0497, 0.0593, -0.0091, -0.0804, 0.0554, -0.0081, -0.0005, 0.0086, -0.0021, -0.0608, 0.0682, 0.0435, 0.0171, -0.0891, 0.0941, -0.0535, 0.1065, -0.1075, 0.0374, 0.1111, -0.0548, 0.025, 0.0035, 0.0881, -0.0758, 0.1925, 0.1272, 0.1196, 0.1353, 0.0474, 0.0821, -0.0348, -0.0961, -0.0997, 0.0453, 0.1919, 0.1644, 0.1644, 0.1644, 0.1644, 0.1644, 0.1644, 0.1644, 0.1644, 0.1644, 0.1644, 0.1431, 0.2625, 0.299, 0.35, 0.3765, 0.385, 0.4167, 0.4213, 0.5528, 0.5599])],\n",
       " [1115629498121846784,\n",
       "  44368,\n",
       "  DenseVector([18.0, 0.0796, 0.0482, 0.0006, 0.1034, 0.0221, 0.0432, -0.057, 0.0805, -0.0474, -0.0617, -0.1375, 0.0859, 0.1061, 0.1001, -0.0203, 0.0244, 0.0058, 0.0234, 0.0195, 0.0832, -0.0632, 0.0487, -0.0326, 0.0045, -0.0906, -0.0232, 0.0531, 0.0436, 0.0612, -0.1464, -0.0309, 0.0223, 0.1174, 0.1054, -0.0894, 0.0274, -0.0671, -0.0639, 0.0529, 0.0129, 0.1228, -0.083, -0.0443, 0.0531, -0.0109, 0.0061, 0.1167, 0.0354, -0.0993, 0.0411, -0.0099, -0.0379, 0.0695, 0.0756, 0.0202, 0.063, -0.0209, -0.063, 0.0857, 0.0622, 0.0663, -0.1, 0.0293, -0.1835, -0.0098, 0.0588, -0.0192, -0.0351, 0.0474, -0.0181, 0.0073, -0.0097, -0.0041, -0.0522, 0.0627, 0.047, 0.0327, -0.0528, 0.0604, -0.0122, 0.1018, -0.0739, 0.0183, 0.0708, -0.0179, 0.0132, 0.013, 0.0223, -0.0446, 0.125, 0.0851, 0.1103, 0.11, 0.0147, 0.0303, -0.0175, -0.0515, -0.0922, 0.0174, 0.1216, 0.1644, 0.1644, 0.1644, 0.1644, 0.1644, 0.1644, 0.1644, 0.1644, 0.1644, 0.1644, 0.1758, 0.1849, 0.1883, 0.1943, 0.2257, 0.2401, 0.3006, 0.3387, 0.3474, 0.3794])]]"
      ]
     },
     "execution_count": 10,
     "metadata": {},
     "output_type": "execute_result"
    }
   ],
   "source": [
    "result"
   ]
  },
  {
   "cell_type": "code",
   "execution_count": 11,
   "metadata": {},
   "outputs": [],
   "source": [
    "df = pd.DataFrame(result, columns=['user_id', 'article_id', 'features'])"
   ]
  },
  {
   "cell_type": "code",
   "execution_count": 12,
   "metadata": {},
   "outputs": [
    {
     "data": {
      "text/html": [
       "<div>\n",
       "<style scoped>\n",
       "    .dataframe tbody tr th:only-of-type {\n",
       "        vertical-align: middle;\n",
       "    }\n",
       "\n",
       "    .dataframe tbody tr th {\n",
       "        vertical-align: top;\n",
       "    }\n",
       "\n",
       "    .dataframe thead th {\n",
       "        text-align: right;\n",
       "    }\n",
       "</style>\n",
       "<table border=\"1\" class=\"dataframe\">\n",
       "  <thead>\n",
       "    <tr style=\"text-align: right;\">\n",
       "      <th></th>\n",
       "      <th>user_id</th>\n",
       "      <th>article_id</th>\n",
       "      <th>features</th>\n",
       "    </tr>\n",
       "  </thead>\n",
       "  <tbody>\n",
       "    <tr>\n",
       "      <th>0</th>\n",
       "      <td>1115629498121846784</td>\n",
       "      <td>17749</td>\n",
       "      <td>[18.0, 0.12274417509787901, 0.0809537791707485...</td>\n",
       "    </tr>\n",
       "    <tr>\n",
       "      <th>1</th>\n",
       "      <td>1115629498121846784</td>\n",
       "      <td>17748</td>\n",
       "      <td>[18.0, 0.12336761023537457, 0.0566188635715047...</td>\n",
       "    </tr>\n",
       "    <tr>\n",
       "      <th>2</th>\n",
       "      <td>1115629498121846784</td>\n",
       "      <td>44371</td>\n",
       "      <td>[18.0, 0.12649150229610565, 0.0465560077913559...</td>\n",
       "    </tr>\n",
       "    <tr>\n",
       "      <th>3</th>\n",
       "      <td>1115629498121846784</td>\n",
       "      <td>44368</td>\n",
       "      <td>[18.0, 0.07960356197575431, 0.0482095266637195...</td>\n",
       "    </tr>\n",
       "  </tbody>\n",
       "</table>\n",
       "</div>"
      ],
      "text/plain": [
       "               user_id  article_id  \\\n",
       "0  1115629498121846784       17749   \n",
       "1  1115629498121846784       17748   \n",
       "2  1115629498121846784       44371   \n",
       "3  1115629498121846784       44368   \n",
       "\n",
       "                                            features  \n",
       "0  [18.0, 0.12274417509787901, 0.0809537791707485...  \n",
       "1  [18.0, 0.12336761023537457, 0.0566188635715047...  \n",
       "2  [18.0, 0.12649150229610565, 0.0465560077913559...  \n",
       "3  [18.0, 0.07960356197575431, 0.0482095266637195...  "
      ]
     },
     "execution_count": 12,
     "metadata": {},
     "output_type": "execute_result"
    }
   ],
   "source": [
    "df"
   ]
  },
  {
   "cell_type": "code",
   "execution_count": 13,
   "metadata": {},
   "outputs": [],
   "source": [
    "# 3、预测并进行排序是筛选\n",
    "spark_df = spark.createDataFrame(df)"
   ]
  },
  {
   "cell_type": "code",
   "execution_count": 14,
   "metadata": {},
   "outputs": [
    {
     "name": "stdout",
     "output_type": "stream",
     "text": [
      "+-------------------+----------+--------------------+\n",
      "|            user_id|article_id|            features|\n",
      "+-------------------+----------+--------------------+\n",
      "|1115629498121846784|     17749|[18.0,0.122744175...|\n",
      "|1115629498121846784|     17748|[18.0,0.123367610...|\n",
      "|1115629498121846784|     44371|[18.0,0.126491502...|\n",
      "|1115629498121846784|     44368|[18.0,0.079603561...|\n",
      "+-------------------+----------+--------------------+\n",
      "\n"
     ]
    }
   ],
   "source": [
    "spark_df.show()"
   ]
  },
  {
   "cell_type": "code",
   "execution_count": 15,
   "metadata": {},
   "outputs": [],
   "source": [
    "# 加载模型预测\n",
    "model = LogisticRegressionModel.load(\"hdfs://hadoop-master:9000/headlines/models/LR.obj\")"
   ]
  },
  {
   "cell_type": "code",
   "execution_count": 16,
   "metadata": {},
   "outputs": [],
   "source": [
    "prediction = model.transform(spark_df)"
   ]
  },
  {
   "cell_type": "code",
   "execution_count": 17,
   "metadata": {},
   "outputs": [
    {
     "name": "stdout",
     "output_type": "stream",
     "text": [
      "+-------------------+----------+--------------------+--------------------+--------------------+----------+\n",
      "|            user_id|article_id|            features|       rawPrediction|         probability|prediction|\n",
      "+-------------------+----------+--------------------+--------------------+--------------------+----------+\n",
      "|1115629498121846784|     17749|[18.0,0.122744175...|[2.13649261419033...|[0.89439980005788...|       0.0|\n",
      "|1115629498121846784|     17748|[18.0,0.123367610...|[2.13728984545425...|[0.89447507392007...|       0.0|\n",
      "|1115629498121846784|     44371|[18.0,0.126491502...|[2.12135632430905...|[0.89296163766490...|       0.0|\n",
      "|1115629498121846784|     44368|[18.0,0.079603561...|[2.13039215517524...|[0.89382223118747...|       0.0|\n",
      "+-------------------+----------+--------------------+--------------------+--------------------+----------+\n",
      "\n"
     ]
    }
   ],
   "source": [
    "prediction.show()"
   ]
  },
  {
   "cell_type": "code",
   "execution_count": 18,
   "metadata": {},
   "outputs": [],
   "source": [
    "# 按照用户点击某篇文章的概率大小进行排序\n",
    "# channel_id == article_id\n",
    "def convert_type(row):\n",
    "    return int(row.article_id), float(row.probability[1])\n",
    "\n",
    "res = prediction.select(['article_id', 'probability']).rdd.map(convert_type).toDF(['article_id', 'probability']).sort('probability', ascending=False)"
   ]
  },
  {
   "cell_type": "code",
   "execution_count": 19,
   "metadata": {},
   "outputs": [
    {
     "name": "stdout",
     "output_type": "stream",
     "text": [
      "+----------+-------------------+\n",
      "|article_id|        probability|\n",
      "+----------+-------------------+\n",
      "|     44371|0.10703836233509091|\n",
      "|     44368|0.10617776881252859|\n",
      "|     17749|0.10560019994211393|\n",
      "|     17748|0.10552492607992216|\n",
      "+----------+-------------------+\n",
      "\n"
     ]
    }
   ],
   "source": [
    "res.show()"
   ]
  },
  {
   "cell_type": "code",
   "execution_count": 20,
   "metadata": {},
   "outputs": [],
   "source": [
    "# 进行筛选返回推荐的文章列表\n",
    "article_list = [i.article_id for i in res.collect()]\n",
    "if len(article_list) > 200:\n",
    "    article_list = article_list[:200]\n",
    "reco_set = list(map(int, article_list))"
   ]
  },
  {
   "cell_type": "code",
   "execution_count": 21,
   "metadata": {},
   "outputs": [
    {
     "data": {
      "text/plain": [
       "[44371, 44368, 17749, 17748]"
      ]
     },
     "execution_count": 21,
     "metadata": {},
     "output_type": "execute_result"
    }
   ],
   "source": [
    "reco_set"
   ]
  },
  {
   "cell_type": "code",
   "execution_count": null,
   "metadata": {},
   "outputs": [],
   "source": [
    ""
   ]
  }
 ],
 "metadata": {
  "kernelspec": {
   "display_name": "Python 3",
   "language": "python",
   "name": "python3"
  },
  "language_info": {
   "codemirror_mode": {
    "name": "ipython",
    "version": 3.0
   },
   "file_extension": ".py",
   "mimetype": "text/x-python",
   "name": "python",
   "nbconvert_exporter": "python",
   "pygments_lexer": "ipython3",
   "version": "3.6.7"
  }
 },
 "nbformat": 4,
 "nbformat_minor": 0
}